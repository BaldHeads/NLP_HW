{
 "cells": [
  {
   "cell_type": "markdown",
   "metadata": {},
   "source": [
    "# Unit 12 - Tales from the Crypto\n",
    "\n",
    "---\n"
   ]
  },
  {
   "cell_type": "markdown",
   "metadata": {},
   "source": [
    "## 1. Sentiment Analysis\n",
    "\n",
    "Use the [newsapi](https://newsapi.org/) to pull the latest news articles for Bitcoin and Ethereum and create a DataFrame of sentiment scores for each coin.\n",
    "\n",
    "Use descriptive statistics to answer the following questions:\n",
    "1. Which coin had the highest mean positive score?\n",
    "2. Which coin had the highest negative score?\n",
    "3. Which coin had the highest positive score?"
   ]
  },
  {
   "cell_type": "code",
   "execution_count": 1,
   "metadata": {},
   "outputs": [
    {
     "name": "stderr",
     "output_type": "stream",
     "text": [
      "[nltk_data] Downloading package vader_lexicon to\n",
      "[nltk_data]     C:\\Users\\Jordan\\AppData\\Roaming\\nltk_data...\n",
      "[nltk_data]   Package vader_lexicon is already up-to-date!\n"
     ]
    }
   ],
   "source": [
    "# Initial imports\n",
    "import os\n",
    "import pandas as pd\n",
    "import numpy as np\n",
    "from dotenv import load_dotenv\n",
    "import nltk as nltk\n",
    "from newsapi import NewsApiClient\n",
    "nltk.download('vader_lexicon')\n",
    "from nltk.sentiment.vader import SentimentIntensityAnalyzer\n",
    "analyzer = SentimentIntensityAnalyzer()\n",
    "\n",
    "%matplotlib inline"
   ]
  },
  {
   "cell_type": "code",
   "execution_count": 2,
   "metadata": {},
   "outputs": [],
   "source": [
    "# Read your api key environment variable\n",
    "load_dotenv()\n",
    "api_key = os.getenv(\"news_api\")"
   ]
  },
  {
   "cell_type": "code",
   "execution_count": 3,
   "metadata": {},
   "outputs": [],
   "source": [
    "# Create a newsapi client\n",
    "newsapi = NewsApiClient(api_key=api_key)"
   ]
  },
  {
   "cell_type": "code",
   "execution_count": 4,
   "metadata": {},
   "outputs": [],
   "source": [
    "# Fetch the Bitcoin news articles\n",
    "btc_news = newsapi.get_everything(q=\"Bitcoin\", from_param=\"2021-06-01\")"
   ]
  },
  {
   "cell_type": "code",
   "execution_count": 5,
   "metadata": {},
   "outputs": [],
   "source": [
    "# Fetch the Ethereum news articles\n",
    "eth_news = newsapi.get_everything(q=\"Ethereum\",from_param=\"2021-06-01\")"
   ]
  },
  {
   "cell_type": "code",
   "execution_count": 6,
   "metadata": {},
   "outputs": [],
   "source": [
    "def get_sent_df(topic_news):\n",
    "    sentiments = []\n",
    "    \n",
    "    for article in topic_news[\"articles\"]:\n",
    "        try:\n",
    "            text = article[\"content\"]\n",
    "            date = article[\"publishedAt\"][:10]\n",
    "            sentiment = analyzer.polarity_scores(text)\n",
    "            compound = sentiment[\"compound\"]\n",
    "            pos = sentiment[\"pos\"]\n",
    "            neu = sentiment[\"neu\"]\n",
    "            neg = sentiment[\"neg\"]\n",
    "        \n",
    "            sentiments.append({\n",
    "                \"text\": text,\n",
    "                \"date\": date,\n",
    "                \"compound\": compound,\n",
    "                \"positive\": pos,\n",
    "                \"negative\": neg,\n",
    "                \"neutral\": neu\n",
    "            \n",
    "            })\n",
    "\n",
    "        except AttributeError:\n",
    "            pass\n",
    "    \n",
    "    df = pd.DataFrame(sentiments)\n",
    "    cols = [\"date\", \"text\", \"compound\", \"positive\", \"negative\", \"neutral\"]\n",
    "    df = df[cols]\n",
    "    \n",
    "    return df"
   ]
  },
  {
   "cell_type": "code",
   "execution_count": 7,
   "metadata": {},
   "outputs": [
    {
     "data": {
      "text/html": [
       "<div>\n",
       "<style scoped>\n",
       "    .dataframe tbody tr th:only-of-type {\n",
       "        vertical-align: middle;\n",
       "    }\n",
       "\n",
       "    .dataframe tbody tr th {\n",
       "        vertical-align: top;\n",
       "    }\n",
       "\n",
       "    .dataframe thead th {\n",
       "        text-align: right;\n",
       "    }\n",
       "</style>\n",
       "<table border=\"1\" class=\"dataframe\">\n",
       "  <thead>\n",
       "    <tr style=\"text-align: right;\">\n",
       "      <th></th>\n",
       "      <th>date</th>\n",
       "      <th>text</th>\n",
       "      <th>compound</th>\n",
       "      <th>positive</th>\n",
       "      <th>negative</th>\n",
       "      <th>neutral</th>\n",
       "    </tr>\n",
       "  </thead>\n",
       "  <tbody>\n",
       "    <tr>\n",
       "      <th>0</th>\n",
       "      <td>2021-06-05</td>\n",
       "      <td>Hello friends, and welcome back to Week in Rev...</td>\n",
       "      <td>0.75</td>\n",
       "      <td>0.154</td>\n",
       "      <td>0.0</td>\n",
       "      <td>0.846</td>\n",
       "    </tr>\n",
       "    <tr>\n",
       "      <th>1</th>\n",
       "      <td>2021-06-08</td>\n",
       "      <td>By Mary-Ann RussonBusiness reporter, BBC News\\...</td>\n",
       "      <td>0.34</td>\n",
       "      <td>0.070</td>\n",
       "      <td>0.0</td>\n",
       "      <td>0.930</td>\n",
       "    </tr>\n",
       "    <tr>\n",
       "      <th>2</th>\n",
       "      <td>2021-06-08</td>\n",
       "      <td>Representations of the virtual currency Bitcoi...</td>\n",
       "      <td>0.00</td>\n",
       "      <td>0.000</td>\n",
       "      <td>0.0</td>\n",
       "      <td>1.000</td>\n",
       "    </tr>\n",
       "    <tr>\n",
       "      <th>3</th>\n",
       "      <td>2021-06-03</td>\n",
       "      <td>Cryptocurrencies such as bitcoin are a \"farce\"...</td>\n",
       "      <td>0.00</td>\n",
       "      <td>0.000</td>\n",
       "      <td>0.0</td>\n",
       "      <td>1.000</td>\n",
       "    </tr>\n",
       "    <tr>\n",
       "      <th>4</th>\n",
       "      <td>2021-06-05</td>\n",
       "      <td>In a video broadcast to Bitcoin 2021, a multid...</td>\n",
       "      <td>0.00</td>\n",
       "      <td>0.000</td>\n",
       "      <td>0.0</td>\n",
       "      <td>1.000</td>\n",
       "    </tr>\n",
       "  </tbody>\n",
       "</table>\n",
       "</div>"
      ],
      "text/plain": [
       "         date                                               text  compound  \\\n",
       "0  2021-06-05  Hello friends, and welcome back to Week in Rev...      0.75   \n",
       "1  2021-06-08  By Mary-Ann RussonBusiness reporter, BBC News\\...      0.34   \n",
       "2  2021-06-08  Representations of the virtual currency Bitcoi...      0.00   \n",
       "3  2021-06-03  Cryptocurrencies such as bitcoin are a \"farce\"...      0.00   \n",
       "4  2021-06-05  In a video broadcast to Bitcoin 2021, a multid...      0.00   \n",
       "\n",
       "   positive  negative  neutral  \n",
       "0     0.154       0.0    0.846  \n",
       "1     0.070       0.0    0.930  \n",
       "2     0.000       0.0    1.000  \n",
       "3     0.000       0.0    1.000  \n",
       "4     0.000       0.0    1.000  "
      ]
     },
     "execution_count": 7,
     "metadata": {},
     "output_type": "execute_result"
    }
   ],
   "source": [
    "# Create the Bitcoin sentiment scores DataFrame\n",
    "btc_sentiment = get_sent_df(btc_news)\n",
    "btc_sentiment.head()"
   ]
  },
  {
   "cell_type": "code",
   "execution_count": 8,
   "metadata": {},
   "outputs": [],
   "source": [
    "# Create the Ethereum sentiment scores DataFrame\n",
    "eth_sentiment = get_sent_df(eth_news)"
   ]
  },
  {
   "cell_type": "code",
   "execution_count": 9,
   "metadata": {},
   "outputs": [
    {
     "data": {
      "text/html": [
       "<div>\n",
       "<style scoped>\n",
       "    .dataframe tbody tr th:only-of-type {\n",
       "        vertical-align: middle;\n",
       "    }\n",
       "\n",
       "    .dataframe tbody tr th {\n",
       "        vertical-align: top;\n",
       "    }\n",
       "\n",
       "    .dataframe thead th {\n",
       "        text-align: right;\n",
       "    }\n",
       "</style>\n",
       "<table border=\"1\" class=\"dataframe\">\n",
       "  <thead>\n",
       "    <tr style=\"text-align: right;\">\n",
       "      <th></th>\n",
       "      <th>compound</th>\n",
       "      <th>positive</th>\n",
       "      <th>negative</th>\n",
       "      <th>neutral</th>\n",
       "    </tr>\n",
       "  </thead>\n",
       "  <tbody>\n",
       "    <tr>\n",
       "      <th>count</th>\n",
       "      <td>20.000000</td>\n",
       "      <td>20.000000</td>\n",
       "      <td>20.000000</td>\n",
       "      <td>20.000000</td>\n",
       "    </tr>\n",
       "    <tr>\n",
       "      <th>mean</th>\n",
       "      <td>0.223575</td>\n",
       "      <td>0.066400</td>\n",
       "      <td>0.020800</td>\n",
       "      <td>0.912850</td>\n",
       "    </tr>\n",
       "    <tr>\n",
       "      <th>std</th>\n",
       "      <td>0.301205</td>\n",
       "      <td>0.070866</td>\n",
       "      <td>0.037955</td>\n",
       "      <td>0.090939</td>\n",
       "    </tr>\n",
       "    <tr>\n",
       "      <th>min</th>\n",
       "      <td>-0.273200</td>\n",
       "      <td>0.000000</td>\n",
       "      <td>0.000000</td>\n",
       "      <td>0.728000</td>\n",
       "    </tr>\n",
       "    <tr>\n",
       "      <th>25%</th>\n",
       "      <td>0.000000</td>\n",
       "      <td>0.000000</td>\n",
       "      <td>0.000000</td>\n",
       "      <td>0.842250</td>\n",
       "    </tr>\n",
       "    <tr>\n",
       "      <th>50%</th>\n",
       "      <td>0.077150</td>\n",
       "      <td>0.056000</td>\n",
       "      <td>0.000000</td>\n",
       "      <td>0.930000</td>\n",
       "    </tr>\n",
       "    <tr>\n",
       "      <th>75%</th>\n",
       "      <td>0.475775</td>\n",
       "      <td>0.124000</td>\n",
       "      <td>0.016250</td>\n",
       "      <td>1.000000</td>\n",
       "    </tr>\n",
       "    <tr>\n",
       "      <th>max</th>\n",
       "      <td>0.750000</td>\n",
       "      <td>0.180000</td>\n",
       "      <td>0.113000</td>\n",
       "      <td>1.000000</td>\n",
       "    </tr>\n",
       "  </tbody>\n",
       "</table>\n",
       "</div>"
      ],
      "text/plain": [
       "        compound   positive   negative    neutral\n",
       "count  20.000000  20.000000  20.000000  20.000000\n",
       "mean    0.223575   0.066400   0.020800   0.912850\n",
       "std     0.301205   0.070866   0.037955   0.090939\n",
       "min    -0.273200   0.000000   0.000000   0.728000\n",
       "25%     0.000000   0.000000   0.000000   0.842250\n",
       "50%     0.077150   0.056000   0.000000   0.930000\n",
       "75%     0.475775   0.124000   0.016250   1.000000\n",
       "max     0.750000   0.180000   0.113000   1.000000"
      ]
     },
     "execution_count": 9,
     "metadata": {},
     "output_type": "execute_result"
    }
   ],
   "source": [
    "# Describe the Bitcoin Sentiment\n",
    "btc_sentiment.describe()"
   ]
  },
  {
   "cell_type": "code",
   "execution_count": 10,
   "metadata": {},
   "outputs": [
    {
     "data": {
      "text/html": [
       "<div>\n",
       "<style scoped>\n",
       "    .dataframe tbody tr th:only-of-type {\n",
       "        vertical-align: middle;\n",
       "    }\n",
       "\n",
       "    .dataframe tbody tr th {\n",
       "        vertical-align: top;\n",
       "    }\n",
       "\n",
       "    .dataframe thead th {\n",
       "        text-align: right;\n",
       "    }\n",
       "</style>\n",
       "<table border=\"1\" class=\"dataframe\">\n",
       "  <thead>\n",
       "    <tr style=\"text-align: right;\">\n",
       "      <th></th>\n",
       "      <th>compound</th>\n",
       "      <th>positive</th>\n",
       "      <th>negative</th>\n",
       "      <th>neutral</th>\n",
       "    </tr>\n",
       "  </thead>\n",
       "  <tbody>\n",
       "    <tr>\n",
       "      <th>count</th>\n",
       "      <td>20.000000</td>\n",
       "      <td>20.000000</td>\n",
       "      <td>20.000000</td>\n",
       "      <td>20.000000</td>\n",
       "    </tr>\n",
       "    <tr>\n",
       "      <th>mean</th>\n",
       "      <td>0.151885</td>\n",
       "      <td>0.061100</td>\n",
       "      <td>0.023800</td>\n",
       "      <td>0.915100</td>\n",
       "    </tr>\n",
       "    <tr>\n",
       "      <th>std</th>\n",
       "      <td>0.337584</td>\n",
       "      <td>0.075627</td>\n",
       "      <td>0.043086</td>\n",
       "      <td>0.096037</td>\n",
       "    </tr>\n",
       "    <tr>\n",
       "      <th>min</th>\n",
       "      <td>-0.458800</td>\n",
       "      <td>0.000000</td>\n",
       "      <td>0.000000</td>\n",
       "      <td>0.655000</td>\n",
       "    </tr>\n",
       "    <tr>\n",
       "      <th>25%</th>\n",
       "      <td>0.000000</td>\n",
       "      <td>0.000000</td>\n",
       "      <td>0.000000</td>\n",
       "      <td>0.863500</td>\n",
       "    </tr>\n",
       "    <tr>\n",
       "      <th>50%</th>\n",
       "      <td>0.000000</td>\n",
       "      <td>0.020500</td>\n",
       "      <td>0.000000</td>\n",
       "      <td>0.929500</td>\n",
       "    </tr>\n",
       "    <tr>\n",
       "      <th>75%</th>\n",
       "      <td>0.416125</td>\n",
       "      <td>0.103000</td>\n",
       "      <td>0.036750</td>\n",
       "      <td>1.000000</td>\n",
       "    </tr>\n",
       "    <tr>\n",
       "      <th>max</th>\n",
       "      <td>0.690800</td>\n",
       "      <td>0.246000</td>\n",
       "      <td>0.151000</td>\n",
       "      <td>1.000000</td>\n",
       "    </tr>\n",
       "  </tbody>\n",
       "</table>\n",
       "</div>"
      ],
      "text/plain": [
       "        compound   positive   negative    neutral\n",
       "count  20.000000  20.000000  20.000000  20.000000\n",
       "mean    0.151885   0.061100   0.023800   0.915100\n",
       "std     0.337584   0.075627   0.043086   0.096037\n",
       "min    -0.458800   0.000000   0.000000   0.655000\n",
       "25%     0.000000   0.000000   0.000000   0.863500\n",
       "50%     0.000000   0.020500   0.000000   0.929500\n",
       "75%     0.416125   0.103000   0.036750   1.000000\n",
       "max     0.690800   0.246000   0.151000   1.000000"
      ]
     },
     "execution_count": 10,
     "metadata": {},
     "output_type": "execute_result"
    }
   ],
   "source": [
    "# Describe the Ethereum Sentiment\n",
    "eth_sentiment.describe()"
   ]
  },
  {
   "cell_type": "markdown",
   "metadata": {},
   "source": [
    "### Questions:\n",
    "\n",
    "Q: Which coin had the highest mean positive score?\n",
    "\n",
    "A: btc had a higher mean positive score.\n",
    "\n",
    "Q: Which coin had the highest compound score?\n",
    "\n",
    "A: btc had a higher compound score.\n",
    "\n",
    "Q. Which coin had the highest positive score?\n",
    "\n",
    "A: btc had a higher positive score."
   ]
  },
  {
   "cell_type": "markdown",
   "metadata": {},
   "source": [
    "---"
   ]
  },
  {
   "cell_type": "markdown",
   "metadata": {},
   "source": [
    "## 2. Natural Language Processing\n",
    "---\n",
    "###   Tokenizer\n",
    "\n",
    "In this section, you will use NLTK and Python to tokenize the text for each coin. Be sure to:\n",
    "1. Lowercase each word.\n",
    "2. Remove Punctuation.\n",
    "3. Remove Stopwords."
   ]
  },
  {
   "cell_type": "code",
   "execution_count": 11,
   "metadata": {},
   "outputs": [],
   "source": [
    "from nltk.tokenize import word_tokenize, sent_tokenize\n",
    "from nltk.corpus import stopwords\n",
    "from nltk.stem import WordNetLemmatizer, PorterStemmer\n",
    "from string import punctuation\n",
    "import re"
   ]
  },
  {
   "cell_type": "code",
   "execution_count": 12,
   "metadata": {},
   "outputs": [
    {
     "data": {
      "text/plain": [
       "'!\"#$%&\\'()*+,-./:;<=>?@[\\\\]^_`{|}~'"
      ]
     },
     "execution_count": 12,
     "metadata": {},
     "output_type": "execute_result"
    }
   ],
   "source": [
    "punctuation"
   ]
  },
  {
   "cell_type": "code",
   "execution_count": 13,
   "metadata": {},
   "outputs": [],
   "source": [
    "# Instantiate the lemmatizer\n",
    "lemmatizer = WordNetLemmatizer()\n",
    "# Create a list of stopwords\n",
    "sw = set(stopwords.words('english'))\n",
    "\n",
    "# Expand the default stopwords list if necessary\n",
    "# YOUR CODE HERE!"
   ]
  },
  {
   "cell_type": "code",
   "execution_count": 14,
   "metadata": {},
   "outputs": [],
   "source": [
    "# Complete the tokenizer function\n",
    "def tokenizer(text):\n",
    "    \"\"\"Tokenizes text.\"\"\"\n",
    "    \n",
    "    # Create a tokenized list of the words\n",
    "    words = word_tokenize(text)\n",
    "   \n",
    "    # Convert the words to lowercase\n",
    "    \n",
    "    words = list(filter(lambda word: word.lower(), words))\n",
    "   # lc_words = [word.lower() for word in words if word.lower() not in sw]\n",
    "    \n",
    "    # Remove the punctuation from text\n",
    "    words = list(filter(lambda p: p not in punctuation, words))\n",
    "    \n",
    "    # Remove the stop words\n",
    "    words = list(filter(lambda word: word not in sw, words))\n",
    "    \n",
    "    # Lemmatize words into root words\n",
    "    tokens = list(filter(lambda word: lemmatizer.lemmatize(word), words))\n",
    "    #tokens = [lemmatizer.lemmatize(word) for word in words]\n",
    "    return tokens"
   ]
  },
  {
   "cell_type": "code",
   "execution_count": 15,
   "metadata": {},
   "outputs": [
    {
     "data": {
      "text/html": [
       "<div>\n",
       "<style scoped>\n",
       "    .dataframe tbody tr th:only-of-type {\n",
       "        vertical-align: middle;\n",
       "    }\n",
       "\n",
       "    .dataframe tbody tr th {\n",
       "        vertical-align: top;\n",
       "    }\n",
       "\n",
       "    .dataframe thead th {\n",
       "        text-align: right;\n",
       "    }\n",
       "</style>\n",
       "<table border=\"1\" class=\"dataframe\">\n",
       "  <thead>\n",
       "    <tr style=\"text-align: right;\">\n",
       "      <th></th>\n",
       "      <th>date</th>\n",
       "      <th>text</th>\n",
       "      <th>compound</th>\n",
       "      <th>positive</th>\n",
       "      <th>negative</th>\n",
       "      <th>neutral</th>\n",
       "      <th>tokens</th>\n",
       "    </tr>\n",
       "  </thead>\n",
       "  <tbody>\n",
       "    <tr>\n",
       "      <th>0</th>\n",
       "      <td>2021-06-05</td>\n",
       "      <td>Hello friends, and welcome back to Week in Rev...</td>\n",
       "      <td>0.75</td>\n",
       "      <td>0.154</td>\n",
       "      <td>0.0</td>\n",
       "      <td>0.846</td>\n",
       "      <td>[Hello, friends, welcome, back, Week, Review, ...</td>\n",
       "    </tr>\n",
       "    <tr>\n",
       "      <th>1</th>\n",
       "      <td>2021-06-08</td>\n",
       "      <td>By Mary-Ann RussonBusiness reporter, BBC News\\...</td>\n",
       "      <td>0.34</td>\n",
       "      <td>0.070</td>\n",
       "      <td>0.0</td>\n",
       "      <td>0.930</td>\n",
       "      <td>[By, Mary-Ann, RussonBusiness, reporter, BBC, ...</td>\n",
       "    </tr>\n",
       "    <tr>\n",
       "      <th>2</th>\n",
       "      <td>2021-06-08</td>\n",
       "      <td>Representations of the virtual currency Bitcoi...</td>\n",
       "      <td>0.00</td>\n",
       "      <td>0.000</td>\n",
       "      <td>0.0</td>\n",
       "      <td>1.000</td>\n",
       "      <td>[Representations, virtual, currency, Bitcoin, ...</td>\n",
       "    </tr>\n",
       "    <tr>\n",
       "      <th>3</th>\n",
       "      <td>2021-06-03</td>\n",
       "      <td>Cryptocurrencies such as bitcoin are a \"farce\"...</td>\n",
       "      <td>0.00</td>\n",
       "      <td>0.000</td>\n",
       "      <td>0.0</td>\n",
       "      <td>1.000</td>\n",
       "      <td>[Cryptocurrencies, bitcoin, ``, farce, '', sym...</td>\n",
       "    </tr>\n",
       "    <tr>\n",
       "      <th>4</th>\n",
       "      <td>2021-06-05</td>\n",
       "      <td>In a video broadcast to Bitcoin 2021, a multid...</td>\n",
       "      <td>0.00</td>\n",
       "      <td>0.000</td>\n",
       "      <td>0.0</td>\n",
       "      <td>1.000</td>\n",
       "      <td>[In, video, broadcast, Bitcoin, 2021, multiday...</td>\n",
       "    </tr>\n",
       "  </tbody>\n",
       "</table>\n",
       "</div>"
      ],
      "text/plain": [
       "         date                                               text  compound  \\\n",
       "0  2021-06-05  Hello friends, and welcome back to Week in Rev...      0.75   \n",
       "1  2021-06-08  By Mary-Ann RussonBusiness reporter, BBC News\\...      0.34   \n",
       "2  2021-06-08  Representations of the virtual currency Bitcoi...      0.00   \n",
       "3  2021-06-03  Cryptocurrencies such as bitcoin are a \"farce\"...      0.00   \n",
       "4  2021-06-05  In a video broadcast to Bitcoin 2021, a multid...      0.00   \n",
       "\n",
       "   positive  negative  neutral  \\\n",
       "0     0.154       0.0    0.846   \n",
       "1     0.070       0.0    0.930   \n",
       "2     0.000       0.0    1.000   \n",
       "3     0.000       0.0    1.000   \n",
       "4     0.000       0.0    1.000   \n",
       "\n",
       "                                              tokens  \n",
       "0  [Hello, friends, welcome, back, Week, Review, ...  \n",
       "1  [By, Mary-Ann, RussonBusiness, reporter, BBC, ...  \n",
       "2  [Representations, virtual, currency, Bitcoin, ...  \n",
       "3  [Cryptocurrencies, bitcoin, ``, farce, '', sym...  \n",
       "4  [In, video, broadcast, Bitcoin, 2021, multiday...  "
      ]
     },
     "execution_count": 15,
     "metadata": {},
     "output_type": "execute_result"
    }
   ],
   "source": [
    "# Create a new tokens column for Bitcoin\n",
    "btc_sentiment[\"tokens\"] = btc_sentiment[\"text\"].apply(tokenizer)\n",
    "btc_sentiment.head()"
   ]
  },
  {
   "cell_type": "code",
   "execution_count": 16,
   "metadata": {},
   "outputs": [
    {
     "data": {
      "text/html": [
       "<div>\n",
       "<style scoped>\n",
       "    .dataframe tbody tr th:only-of-type {\n",
       "        vertical-align: middle;\n",
       "    }\n",
       "\n",
       "    .dataframe tbody tr th {\n",
       "        vertical-align: top;\n",
       "    }\n",
       "\n",
       "    .dataframe thead th {\n",
       "        text-align: right;\n",
       "    }\n",
       "</style>\n",
       "<table border=\"1\" class=\"dataframe\">\n",
       "  <thead>\n",
       "    <tr style=\"text-align: right;\">\n",
       "      <th></th>\n",
       "      <th>date</th>\n",
       "      <th>text</th>\n",
       "      <th>compound</th>\n",
       "      <th>positive</th>\n",
       "      <th>negative</th>\n",
       "      <th>neutral</th>\n",
       "      <th>tokens</th>\n",
       "    </tr>\n",
       "  </thead>\n",
       "  <tbody>\n",
       "    <tr>\n",
       "      <th>0</th>\n",
       "      <td>2021-06-03</td>\n",
       "      <td>This new mining feature is called 'Norton Cryp...</td>\n",
       "      <td>0.0000</td>\n",
       "      <td>0.000</td>\n",
       "      <td>0.000</td>\n",
       "      <td>1.000</td>\n",
       "      <td>[This, new, mining, feature, called, 'Norton, ...</td>\n",
       "    </tr>\n",
       "    <tr>\n",
       "      <th>1</th>\n",
       "      <td>2021-06-04</td>\n",
       "      <td>CryptoPunks represent the only historically re...</td>\n",
       "      <td>-0.4588</td>\n",
       "      <td>0.067</td>\n",
       "      <td>0.151</td>\n",
       "      <td>0.782</td>\n",
       "      <td>[CryptoPunks, represent, historically, relevan...</td>\n",
       "    </tr>\n",
       "    <tr>\n",
       "      <th>2</th>\n",
       "      <td>2021-06-01</td>\n",
       "      <td>Yao Qian, the former head of China's digital y...</td>\n",
       "      <td>0.3612</td>\n",
       "      <td>0.070</td>\n",
       "      <td>0.000</td>\n",
       "      <td>0.930</td>\n",
       "      <td>[Yao, Qian, former, head, China, 's, digital, ...</td>\n",
       "    </tr>\n",
       "    <tr>\n",
       "      <th>3</th>\n",
       "      <td>2021-06-01</td>\n",
       "      <td>A consumer uses a digital yuan red envelope in...</td>\n",
       "      <td>0.0000</td>\n",
       "      <td>0.000</td>\n",
       "      <td>0.000</td>\n",
       "      <td>1.000</td>\n",
       "      <td>[A, consumer, uses, digital, yuan, red, envelo...</td>\n",
       "    </tr>\n",
       "    <tr>\n",
       "      <th>4</th>\n",
       "      <td>2021-06-08</td>\n",
       "      <td>An update to an existing art app that allows a...</td>\n",
       "      <td>0.0000</td>\n",
       "      <td>0.000</td>\n",
       "      <td>0.000</td>\n",
       "      <td>1.000</td>\n",
       "      <td>[An, update, existing, art, app, allows, artis...</td>\n",
       "    </tr>\n",
       "  </tbody>\n",
       "</table>\n",
       "</div>"
      ],
      "text/plain": [
       "         date                                               text  compound  \\\n",
       "0  2021-06-03  This new mining feature is called 'Norton Cryp...    0.0000   \n",
       "1  2021-06-04  CryptoPunks represent the only historically re...   -0.4588   \n",
       "2  2021-06-01  Yao Qian, the former head of China's digital y...    0.3612   \n",
       "3  2021-06-01  A consumer uses a digital yuan red envelope in...    0.0000   \n",
       "4  2021-06-08  An update to an existing art app that allows a...    0.0000   \n",
       "\n",
       "   positive  negative  neutral  \\\n",
       "0     0.000     0.000    1.000   \n",
       "1     0.067     0.151    0.782   \n",
       "2     0.070     0.000    0.930   \n",
       "3     0.000     0.000    1.000   \n",
       "4     0.000     0.000    1.000   \n",
       "\n",
       "                                              tokens  \n",
       "0  [This, new, mining, feature, called, 'Norton, ...  \n",
       "1  [CryptoPunks, represent, historically, relevan...  \n",
       "2  [Yao, Qian, former, head, China, 's, digital, ...  \n",
       "3  [A, consumer, uses, digital, yuan, red, envelo...  \n",
       "4  [An, update, existing, art, app, allows, artis...  "
      ]
     },
     "execution_count": 16,
     "metadata": {},
     "output_type": "execute_result"
    }
   ],
   "source": [
    "# Create a new tokens column for Ethereum\n",
    "eth_sentiment[\"tokens\"] = eth_sentiment[\"text\"].apply(tokenizer)\n",
    "eth_sentiment.head()"
   ]
  },
  {
   "cell_type": "markdown",
   "metadata": {},
   "source": [
    "---"
   ]
  },
  {
   "cell_type": "markdown",
   "metadata": {},
   "source": [
    "### NGrams and Frequency Analysis\n",
    "\n",
    "In this section you will look at the ngrams and word frequency for each coin. \n",
    "\n",
    "1. Use NLTK to produce the n-grams for N = 2. \n",
    "2. List the top 10 words for each coin. "
   ]
  },
  {
   "cell_type": "code",
   "execution_count": 17,
   "metadata": {},
   "outputs": [],
   "source": [
    "from collections import Counter\n",
    "from nltk import ngrams"
   ]
  },
  {
   "cell_type": "code",
   "execution_count": 18,
   "metadata": {},
   "outputs": [],
   "source": [
    "def combine_texts(tokens_df):\n",
    "    result = []\n",
    "    for i in tokens_df:\n",
    "        result.extend(i)\n",
    "    return result"
   ]
  },
  {
   "cell_type": "code",
   "execution_count": 19,
   "metadata": {},
   "outputs": [],
   "source": [
    "# def gen_bigrams(tokens_df): \n",
    "#     bigrams = tokens_df.apply(lambda x: ngrams(x, n=2))\n",
    "#     result = []\n",
    "#     for i in bigrams:\n",
    "#         result.extend(i)\n",
    "#     return result"
   ]
  },
  {
   "cell_type": "code",
   "execution_count": 20,
   "metadata": {},
   "outputs": [],
   "source": [
    "def gen_bigrams(tokens_df): \n",
    "    bigrams = tokens_df.apply(lambda x: ngrams(x, n=2))\n",
    "    bigrams = combine_texts(bigrams)\n",
    "    return bigrams"
   ]
  },
  {
   "cell_type": "code",
   "execution_count": 21,
   "metadata": {},
   "outputs": [
    {
     "name": "stdout",
     "output_type": "stream",
     "text": [
      "[('Hello', 'friends'), ('friends', 'welcome'), ('welcome', 'back'), ('back', 'Week'), ('Week', 'Review'), ('Review', 'Last'), ('Last', 'week'), ('week', 'I'), ('I', 'wrote'), ('wrote', 'tech'), ('tech', 'taking'), ('taking', 'Disney'), ('Disney', 'This'), ('This', 'week'), ('week', 'I'), ('I', '’'), ('’', 'talking'), ('talking', 'search'), ('search', 'new'), ('new', 'crypto'), ('crypto', 'messiah'), ('messiah', 'If'), ('If', 'youre'), ('youre', 'reading'), ('reading', 'Tec…'), ('Tec…', '+7741'), ('+7741', 'chars'), ('By', 'Mary-Ann'), ('Mary-Ann', 'RussonBusiness'), ('RussonBusiness', 'reporter'), ('reporter', 'BBC'), ('BBC', 'News'), ('News', 'image'), ('image', 'copyrightGetty'), ('copyrightGetty', 'Images'), ('Images', 'Former'), ('Former', 'US'), ('US', 'President'), ('President', 'Donald'), ('Donald', 'Trump'), ('Trump', 'told'), ('told', 'Fox'), ('Fox', 'Business'), ('Business', 'sees'), ('sees', 'Bitcoin'), ('Bitcoin', '``'), ('``', 'scam'), ('scam', \"''\"), (\"''\", 'affecting'), ('affecting', 'value'), ('value', 'US'), ('US', 'dolla…'), ('dolla…', '+3638'), ('+3638', 'chars'), ('Representations', 'virtual'), ('virtual', 'currency'), ('currency', 'Bitcoin'), ('Bitcoin', 'stand'), ('stand', 'motherboard'), ('motherboard', 'picture'), ('picture', 'illustration'), ('illustration', 'taken'), ('taken', 'May'), ('May', '20'), ('20', '2021'), ('2021', 'REUTERS/Dado'), ('REUTERS/Dado', 'Ruvic/Illustration/File'), ('Ruvic/Illustration/File', 'PhotoMicroStrategy'), ('PhotoMicroStrategy', 'Inc'), ('Inc', 'MSTR.O'), ('MSTR.O', 'major'), ('major', 'b…'), ('b…', '+954'), ('+954', 'chars'), ('Cryptocurrencies', 'bitcoin'), ('bitcoin', '``'), ('``', 'farce'), ('farce', \"''\"), (\"''\", 'symptom'), ('symptom', 'bubbles'), ('bubbles', 'forming'), ('forming', 'financial'), ('financial', 'markets'), ('markets', 'Amundi'), ('Amundi', 'chief'), ('chief', 'investment'), ('investment', 'officer'), ('officer', 'Pascal'), ('Pascal', 'Blanque'), ('Blanque', 'said'), ('said', 'Thursday'), ('Thursday', 'Bitcoin'), ('Bitcoin', 'trading'), ('trading', 'around'), ('around', '39'), ('39', '…'), ('…', '+709'), ('+709', 'chars'), ('In', 'video'), ('video', 'broadcast'), ('broadcast', 'Bitcoin'), ('Bitcoin', '2021'), ('2021', 'multiday'), ('multiday', 'conference'), ('conference', 'Miami'), ('Miami', 'billed'), ('billed', 'biggest'), ('biggest', 'bitcoin'), ('bitcoin', 'event'), ('event', 'history'), ('history', 'President'), ('President', 'Nayib'), ('Nayib', 'Bukele'), ('Bukele', 'announced'), ('announced', 'El'), ('El', 'Salvador'), ('Salvador', \"'s\"), (\"'s\", 'partnership'), ('partnership', 'digital'), ('digital', 'wall…'), ('wall…', '+776'), ('+776', 'chars'), ('This', 'story'), ('story', 'originally'), ('originally', 'appeared'), ('appeared', 'DueTheft'), ('DueTheft', 'human'), ('human', 'error'), ('error', 'greatest'), ('greatest', 'risks'), ('risks', 'bitcoin'), ('bitcoin', 'cryptocurrency'), ('cryptocurrency', 'holders'), ('holders', 'There'), ('There', 'many'), ('many', 'benefits'), ('benefits', 'using'), ('using', 'Bitcoin'), ('Bitcoin', 'long'), ('long', 'keep'), ('keep', 'private…'), ('private…', '+3375'), ('+3375', 'chars'), ('The', 'cryptocurrency'), ('cryptocurrency', 'rollercoaster'), ('rollercoaster', 'continues'), ('continues', 'thanks'), ('thanks', 'Getty/Jordan'), ('Getty/Jordan', 'Mansfield'), ('Mansfield', 'Bitcoin'), ('Bitcoin', 'popular'), ('popular', 'cryptocurrencies'), ('cryptocurrencies', 'Friday'), ('Friday', 'cryptic'), ('cryptic', 'tweet'), ('tweet', 'Tesla'), ('Tesla', 'SpaceX'), ('SpaceX', 'CEO'), ('CEO', 'Elon'), ('Elon', 'Musk'), ('Musk', 'appea…'), ('appea…', '+963'), ('+963', 'chars'), ('Federal', 'agents'), ('agents', 'tracked'), ('tracked', 'seized'), ('seized', 'half'), ('half', '4.4'), ('4.4', 'million'), ('million', 'ransom'), ('ransom', 'paid'), ('paid', 'Colonial'), ('Colonial', 'Pipeline'), ('Pipeline', 'cybercriminal'), ('cybercriminal', 'gang'), ('gang', 'DarkSide'), ('DarkSide', 'following'), ('following', 'Mays'), ('Mays', 'catastrophic'), ('catastrophic', 'cyberattack'), ('cyberattack', 'U.S.'), ('U.S.', 'Justice'), ('Justice', 'Depa…'), ('Depa…', '+2775'), ('+2775', 'chars'), ('By', 'Reuters'), ('Reuters', 'Staff'), ('Staff', 'MEXICO'), ('MEXICO', 'CITY'), ('CITY', 'June'), ('June', '5'), ('5', 'Reuters'), ('Reuters', 'El'), ('El', 'Salvadors'), ('Salvadors', 'President'), ('President', 'Nayib'), ('Nayib', 'Bukele'), ('Bukele', 'said'), ('said', 'Saturday'), ('Saturday', 'send'), ('send', 'Congress'), ('Congress', 'bill'), ('bill', 'next'), ('next', 'week'), ('week', 'make'), ('make', 'bitcoin'), ('bitcoin', 'legal'), ('legal', 'tender'), ('tender', 'country'), ('country', 'In'), ('In', '…'), ('…', '+248'), ('+248', 'chars'), ('Representations', 'Bitcoin'), ('Bitcoin', 'cryptocurrency'), ('cryptocurrency', 'seen'), ('seen', 'front'), ('front', 'image'), ('image', 'Chinese'), ('Chinese', 'flags'), ('flags', 'illustration'), ('illustration', 'picture'), ('picture', 'taken'), ('taken', 'June'), ('June', '2'), ('2', '2021'), ('2021', 'REUTERS/Florence'), ('REUTERS/Florence', 'Lo/IllustrationA'), ('Lo/IllustrationA', 'slew'), ('slew', 'crypto-related'), ('crypto-related', 'acco…'), ('acco…', '+2170'), ('+2170', 'chars'), ('Bitcoin', 'NurPhoto/Getty'), ('NurPhoto/Getty', 'Images'), ('Images', 'The'), ('The', 'number'), ('number', 'active'), ('active', 'bitcoin'), ('bitcoin', 'addresses'), ('addresses', 'dropped'), ('dropped', '47'), ('47', 'April'), ('April', '15'), ('15', 'peak'), ('peak', '1.36'), ('1.36', 'million'), ('million', 'around'), ('around', '716,000'), ('716,000', 'Sunday'), ('Sunday', 'according'), ('according', 'data'), ('data', 'blockchain'), ('blockchain', 'analytics…'), ('analytics…', '+2458'), ('+2458', 'chars'), ('Bitcoin', 'slipped'), ('slipped', '3'), ('3', 'Friday'), ('Friday', 'Tesla'), ('Tesla', 'boss'), ('boss', 'Elon'), ('Elon', 'Musk'), ('Musk', 'fired'), ('fired', 'tweet'), ('tweet', 'hinting'), ('hinting', 'breakup'), ('breakup', 'cryptocurrency'), ('cryptocurrency', 'though'), ('though', 'remains'), ('remains', 'course'), ('course', 'best'), ('best', 'weekly'), ('weekly', 'gain'), ('gain', 'month…'), ('month…', '+470'), ('+470', 'chars'), ('Representations', 'Bitcoin'), ('Bitcoin', 'cryptocurrency'), ('cryptocurrency', 'seen'), ('seen', 'picture'), ('picture', 'illustration'), ('illustration', 'taken'), ('taken', 'June'), ('June', '7'), ('7', '2021'), ('2021', 'REUTERS/Edgar'), ('REUTERS/Edgar', 'Su/IllustrationBitcoin'), ('Su/IllustrationBitcoin', 'fell'), ('fell', 'three-week'), ('three-week', 'low'), ('low', 'Tuesday'), ('Tuesday', 'amid'), ('amid', 'signs'), ('signs', 'institut…'), ('institut…', '+1982'), ('+1982', 'chars'), ('Small', 'toy'), ('toy', 'figurines'), ('figurines', 'seen'), ('seen', 'representations'), ('representations', 'Bitcoin'), ('Bitcoin', 'virtual'), ('virtual', 'currency'), ('currency', 'displayed'), ('displayed', 'front'), ('front', 'image'), ('image', 'China'), ('China', \"'s\"), (\"'s\", 'flag'), ('flag', 'illustration'), ('illustration', 'picture'), ('picture', 'April'), ('April', '9'), ('9', '2019'), ('2019', 'REUTERS/Dado'), ('REUTERS/Dado', 'Ruvic/Illustra…'), ('Ruvic/Illustra…', '+2877'), ('+2877', 'chars'), ('Blockchain', 'technology'), ('technology', 'company'), ('company', 'Blockstream'), ('Blockstream', 'Mining'), ('Mining', 'said'), ('said', 'Saturday'), ('Saturday', 'Square'), ('Square', 'Inc'), ('Inc', 'SQ.N'), ('SQ.N', 'invest'), ('invest', '5'), ('5', 'million'), ('million', 'build'), ('build', 'open-source'), ('open-source', 'solar-powered'), ('solar-powered', 'bitcoin'), ('bitcoin', 'mining'), ('mining', 'facility'), ('facility', 'one'), ('one', 'Blockstream'), ('Blockstream', \"'s\"), (\"'s\", '…'), ('…', '+317'), ('+317', 'chars'), ('Bitcoin', 'mining'), ('mining', 'uses'), ('uses', 'huge'), ('huge', 'amounts'), ('amounts', 'energy'), ('energy', 'Andia/Getty'), ('Andia/Getty', 'Images'), ('Images', 'Crypto'), ('Crypto', 'stocks'), ('stocks', 'worst-performing'), ('worst-performing', '``'), ('``', 'basket'), ('basket', \"''\"), (\"''\", 'assets'), ('assets', 'May'), ('May', 'price'), ('price', 'bitcoin'), ('bitcoin', 'tokens'), ('tokens', 'plunged'), ('plunged', 'according'), ('according', 'Saxo'), ('Saxo', '…'), ('…', '+2195'), ('+2195', 'chars'), ('A', 'representation'), ('representation', 'virtual'), ('virtual', 'cryptocurrency'), ('cryptocurrency', 'Bitcoin'), ('Bitcoin', 'seen'), ('seen', 'picture'), ('picture', 'illustration'), ('illustration', 'taken'), ('taken', 'June'), ('June', '7'), ('7', '2021'), ('2021', 'REUTERS/Edgar'), ('REUTERS/Edgar', 'Su/IllustrationA'), ('Su/IllustrationA', 'push'), ('push', 'El'), ('El', 'Salvador'), ('Salvador', \"'s\"), (\"'s\", 'President'), ('President', 'Nayib'), ('Nayib', 'Bukele'), ('Bukele', 'make'), ('make', 'his…'), ('his…', '+3227'), ('+3227', 'chars'), ('On', 'Monday'), ('Monday', 'afternoon'), ('afternoon', 'U.S.'), ('U.S.', 'Justice'), ('Justice', 'Department'), ('Department', 'said'), ('said', 'seized'), ('seized', 'much'), ('much', 'cryptocurrency'), ('cryptocurrency', 'ransom'), ('ransom', 'U.S.'), ('U.S.', 'pipeline'), ('pipeline', 'operator'), ('operator', 'Colonial'), ('Colonial', 'Pipeline'), ('Pipeline', 'paid'), ('paid', 'last'), ('last', 'month'), ('month', 'Russian'), ('Russian', 'hacking'), ('hacking', 'collective'), ('collective', 'ca…'), ('ca…', '+8468'), ('+8468', 'chars'), ('This', 'article'), ('article', 'translated'), ('translated', 'Spanish'), ('Spanish', 'edition'), ('edition', 'using'), ('using', 'AI'), ('AI', 'technologies'), ('technologies', 'Errors'), ('Errors', 'may'), ('may', 'exist'), ('exist', 'due'), ('due', 'process'), ('process', 'Nayib'), ('Nayib', 'Bukele'), ('Bukele', 'president'), ('president', 'El'), ('El', 'Salvador'), ('Salvador', 'announced'), ('announced', 'video'), ('video', 'hopes'), ('hopes', 'make…'), ('make…', '+790'), ('+790', 'chars'), ('A', 'representation'), ('representation', 'virtual'), ('virtual', 'currency'), ('currency', 'Bitcoin'), ('Bitcoin', 'seen'), ('seen', 'front'), ('front', 'stock'), ('stock', 'graph'), ('graph', 'illustration'), ('illustration', 'taken'), ('taken', 'January'), ('January', '8'), ('8', '2021'), ('2021', 'REUTERS/Dado'), ('REUTERS/Dado', 'Ruvic/File'), ('Ruvic/File', 'Photo/File'), ('Photo/File', 'PhotoCryptocurrencies'), ('PhotoCryptocurrencies', 'posted'), ('posted', 'inflows'), ('inflows', 'last…'), ('last…', '+1506'), ('+1506', 'chars')]\n"
     ]
    }
   ],
   "source": [
    "# Generate the Bitcoin N-grams where N=2\n",
    "btc_tokens = btc_sentiment[\"tokens\"].copy()\n",
    "btc_bigrams = gen_bigrams(btc_tokens)\n",
    "print(btc_bigrams)"
   ]
  },
  {
   "cell_type": "code",
   "execution_count": 22,
   "metadata": {},
   "outputs": [
    {
     "name": "stdout",
     "output_type": "stream",
     "text": [
      "[('This', 'new'), ('new', 'mining'), ('mining', 'feature'), ('feature', 'called'), ('called', \"'Norton\"), (\"'Norton\", 'Crypto'), ('Crypto', 'rolling'), ('rolling', 'tomorrow'), ('tomorrow', 'Norton'), ('Norton', '360'), ('360', 'users'), ('users', 'enrolled'), ('enrolled', 'Norton'), ('Norton', \"'s\"), (\"'s\", 'early'), ('early', 'adopter'), ('adopter', 'program'), ('program', 'When'), ('When', 'Norton'), ('Norton', 'Crypto'), ('Crypto', 'enabled'), ('enabled', 'software'), ('software', 'use…'), ('use…', '+631'), ('+631', 'chars'), ('CryptoPunks', 'represent'), ('represent', 'historically'), ('historically', 'relevant'), ('relevant', 'narrative'), ('narrative', 'upon'), ('upon', 'value'), ('value', 'could'), ('could', 'conceivably'), ('conceivably', 'live'), ('live', 'decades'), ('decades', 'within'), ('within', 'expanding'), ('expanding', 'catalogue'), ('catalogue', 'raisonné'), ('raisonné', 'Ill'), ('Ill', 'damned'), ('damned', 'Im'), ('Im', 'counting'), ('counting', 'Jacks'), ('Jacks', 'tweet…'), ('tweet…', '+1096'), ('+1096', 'chars'), ('Yao', 'Qian'), ('Qian', 'former'), ('former', 'head'), ('head', 'China'), ('China', \"'s\"), (\"'s\", 'digital'), ('digital', 'yuan'), ('yuan', 'team'), ('team', 'said'), ('said', 'central'), ('central', 'bank'), ('bank', 'digital'), ('digital', 'currencies'), ('currencies', 'could'), ('could', 'use'), ('use', 'blockchain'), ('blockchain', 'networks'), ('networks', 'like'), ('like', 'ethereum'), ('ethereum', 'future'), ('future', 'Sina'), ('Sina', 'Finance'), ('Finance', 'reported'), ('reported', 'Monday'), ('Monday', 'At'), ('At', 'Intern…'), ('Intern…', '+2168'), ('+2168', 'chars'), ('A', 'consumer'), ('consumer', 'uses'), ('uses', 'digital'), ('digital', 'yuan'), ('yuan', 'red'), ('red', 'envelope'), ('envelope', 'mobile'), ('mobile', 'phone'), ('phone', 'buy'), ('buy', 'goods'), ('goods', 'digital'), ('digital', 'yuan'), ('yuan', 'cashier'), ('cashier', \"'s\"), (\"'s\", 'desk'), ('desk', 'Costfoto/Barcroft'), ('Costfoto/Barcroft', 'Media'), ('Media', 'via'), ('via', 'Getty'), ('Getty', 'Images'), ('Images', 'Yao'), ('Yao', 'Qian'), ('Qian', 'former'), ('former', 'head'), ('head', 'China'), ('China', \"'s\"), (\"'s\", 'digital'), ('digital', 'yua…'), ('yua…', '+2319'), ('+2319', 'chars'), ('An', 'update'), ('update', 'existing'), ('existing', 'art'), ('art', 'app'), ('app', 'allows'), ('allows', 'artists'), ('artists', 'access'), ('access', 'NFT'), ('NFT', 'marketplaces'), ('marketplaces', 'directly'), ('directly', 'could'), ('could', 'potential'), ('potential', 'democratize'), ('democratize', 'access'), ('access', 'NFT'), ('NFT', 'world'), ('world', 'artists'), ('artists', 'currently'), ('currently', 'crypto'), ('crypto', 'SketchAR…'), ('SketchAR…', '+2504'), ('+2504', 'chars'), ('One', 'biggest'), ('biggest', 'challenges'), ('challenges', 'developers'), ('developers', 'building'), ('building', 'Ethereum'), ('Ethereum', '’'), ('’', 'market'), ('market', 'leading'), ('leading', 'smart'), ('smart', 'contract'), ('contract', 'platform/blockchain'), ('platform/blockchain', 'high'), ('high', 'fees'), ('fees', 'slow'), ('slow', 'transactions'), ('transactions', 'These'), ('These', 'issues'), ('issues', 'arise'), ('arise', 'fact'), ('fact', 'th…'), ('th…', '+1175'), ('+1175', 'chars'), ('By', 'Reuters'), ('Reuters', 'Staff'), ('Staff', 'FILE'), ('FILE', 'PHOTO'), ('PHOTO', 'Representations'), ('Representations', 'cryptocurrencies'), ('cryptocurrencies', 'including'), ('including', 'Bitcoin'), ('Bitcoin', 'Dash'), ('Dash', 'Ethereum'), ('Ethereum', 'Ripple'), ('Ripple', 'Litecoin'), ('Litecoin', 'seen'), ('seen', 'illustration'), ('illustration', 'picture'), ('picture', 'taken'), ('taken', 'June'), ('June', '2'), ('2', '2021'), ('2021', 'REUTERS/Florence'), ('REUTERS/Florence', 'Lo/…'), ('Lo/…', '+572'), ('+572', 'chars'), ('Representations', 'cryptocurrencies'), ('cryptocurrencies', 'including'), ('including', 'Bitcoin'), ('Bitcoin', 'Dash'), ('Dash', 'Ethereum'), ('Ethereum', 'Ripple'), ('Ripple', 'Litecoin'), ('Litecoin', 'seen'), ('seen', 'illustration'), ('illustration', 'picture'), ('picture', 'taken'), ('taken', 'June'), ('June', '2'), ('2', '2021'), ('2021', 'REUTERS/Florence'), ('REUTERS/Florence', 'Lo/Illustration'), ('Lo/Illustration', 'A'), ('A', 'significantly'), ('significantly', '…'), ('…', '+578'), ('+578', 'chars'), ('As', 'stock'), ('stock', 'market'), ('market', 'seeing'), ('seeing', 'demise'), ('demise', 'broker'), ('broker', 'crypto'), ('crypto', 'market'), ('market', 'seeing'), ('seeing', 'revival'), ('revival', 'Unlike'), ('Unlike', 'stock'), ('stock', 'market'), ('market', 'crypto'), ('crypto', 'market'), ('market', 'fragmented'), ('fragmented', 'filled'), ('filled', 'challenges'), ('challenges', 'around'), ('around', 'security'), ('security', 'a…'), ('a…', '+6393'), ('+6393', 'chars'), ('Opinions', 'expressed'), ('expressed', 'Entrepreneur'), ('Entrepreneur', 'contributors'), ('contributors', 'Non-fungible'), ('Non-fungible', 'tokens'), ('tokens', 'NFTs'), ('NFTs', 'longer'), ('longer', 'mysterious'), ('mysterious', 'sparsely'), ('sparsely', 'covered'), ('covered', 'topic'), ('topic', 'The'), ('The', 'noteworthy'), ('noteworthy', 'transactions'), ('transactions', 'thi…'), ('thi…', '+6680'), ('+6680', 'chars'), ('Opinions', 'expressed'), ('expressed', 'Entrepreneur'), ('Entrepreneur', 'contributors'), ('contributors', 'DeFi'), ('DeFi', 'also'), ('also', 'known'), ('known', 'decentralized'), ('decentralized', 'finance'), ('finance', 'fascinating'), ('fascinating', 'rapidly'), ('rapidly', 'growing'), ('growing', 'industry'), ('industry', 'cutting'), ('cutting', 'edge'), ('edge', 'modern'), ('modern', 'technology'), ('technology', 'Spur…'), ('Spur…', '+7708'), ('+7708', 'chars'), ('After', 'almost'), ('almost', '8'), ('8', 'years'), ('years', 'Dogecoin'), ('Dogecoin', 'thing'), ('thing', 'Yes'), ('Yes', 'really'), ('really', 'Once'), ('Once', 'inspired'), ('inspired', 'Doge'), ('Doge', 'meme'), ('meme', 'joke'), ('joke', 'backers'), ('backers', 'like'), ('like', 'Elon'), ('Elon', 'Musk'), ('Musk', 'singing'), ('singing', 'praises'), ('praises', 'Sure'), ('Sure', 'sounds'), ('sounds', 'ridiculous'), ('ridiculous', 'o…'), ('o…', '+1910'), ('+1910', 'chars'), ('This', 'week'), ('week', 'SpaceX'), ('SpaceX', 'launch'), ('launch', 'Ethereum'), ('Ethereum', 'ETH'), ('ETH', 'node'), ('node', 'International'), ('International', 'Space'), ('Space', 'Station'), ('Station', 'ISS'), ('ISS', 'marking'), ('marking', 'first'), ('first', 'time'), ('time', 'ETH'), ('ETH', 'node'), ('node', 'launched'), ('launched', 'space'), ('space', 'SpaceX'), ('SpaceX', 'hired'), ('hired', 'SpaceChain'), ('SpaceChain', 'to…'), ('to…', '+2513'), ('+2513', 'chars'), ('While', 'almost'), ('almost', 'certainly'), ('certainly', 'wont'), ('wont', 'solve'), ('solve', 'shortage'), ('shortage', 'graphics'), ('graphics', 'cards'), ('cards', 'today'), ('today', 'Nvidia'), ('Nvidia', 'announced'), ('announced', 'two'), ('two', 'new'), ('new', 'members'), ('members', 'RTX'), ('RTX', '30-series'), ('30-series', 'family'), ('family', 'new'), ('new', '3080'), ('3080', 'Ti'), ('Ti', '3070'), ('3070', 'TI'), ('TI', 'GPUs'), ('GPUs', 'Slotting…'), ('Slotting…', '+2508'), ('+2508', 'chars'), ('Los', 'NFT'), ('NFT', 'plantean'), ('plantean', 'una'), ('una', 'revolución'), ('revolución', 'en'), ('en', 'el'), ('el', 'mundo'), ('mundo', 'del'), ('del', 'arte'), ('arte', 'los'), ('los', 'contenidos'), ('contenidos', 'digitales'), ('digitales', 'aunque'), ('aunque', 'ofrecen'), ('ofrecen', 'una'), ('una', 'oportunidad'), ('oportunidad', 'todo'), ('todo', 'tipo'), ('tipo', 'de'), ('de', 'creadores'), ('creadores', 'también'), ('también', 'se'), ('se', 'está'), ('está', 'hablando'), ('hablando', 'mucho'), ('mucho', 'del'), ('del', 'impacto'), ('impacto', 'energético'), ('energético', 'med…'), ('med…', '+6975'), ('+6975', 'chars'), ('The', 'cryptocurrency'), ('cryptocurrency', 'rollercoaster'), ('rollercoaster', 'continues'), ('continues', 'thanks'), ('thanks', 'Getty/Jordan'), ('Getty/Jordan', 'Mansfield'), ('Mansfield', 'Bitcoin'), ('Bitcoin', 'popular'), ('popular', 'cryptocurrencies'), ('cryptocurrencies', 'Friday'), ('Friday', 'cryptic'), ('cryptic', 'tweet'), ('tweet', 'Tesla'), ('Tesla', 'SpaceX'), ('SpaceX', 'CEO'), ('CEO', 'Elon'), ('Elon', 'Musk'), ('Musk', 'appea…'), ('appea…', '+963'), ('+963', 'chars'), ('Ethereum', 'hot'), ('hot', 'commodity'), ('commodity', 'cryptocurrencies'), ('cryptocurrencies', 'ranging'), ('ranging', 'Bitcoin'), ('Bitcoin', 'Dogecoin'), ('Dogecoin', 'However'), ('However', 'process'), ('process', 'mining'), ('mining', 'said'), ('said', 'currencies'), ('currencies', \"n't\"), (\"n't\", 'incredibly'), ('incredibly', 'easy'), ('easy', 'one'), ('one', 'even'), ('even', \"'re\"), (\"'re\", 'armed'), ('armed', '…'), ('…', '+1585'), ('+1585', 'chars'), ('Representations', 'cryptocurrencies'), ('cryptocurrencies', 'including'), ('including', 'Bitcoin'), ('Bitcoin', 'Dash'), ('Dash', 'Ethereum'), ('Ethereum', 'Ripple'), ('Ripple', 'Litecoin'), ('Litecoin', 'seen'), ('seen', 'illustration'), ('illustration', 'picture'), ('picture', 'taken'), ('taken', 'June'), ('June', '2'), ('2', '2021'), ('2021', 'REUTERS/Florence'), ('REUTERS/Florence', 'Lo/Illustration/File'), ('Lo/Illustration/File', 'PhotoThe'), ('PhotoThe', 'Whi…'), ('Whi…', '+1552'), ('+1552', 'chars'), ('A', 'representation'), ('representation', 'virtual'), ('virtual', 'currency'), ('currency', 'Bitcoin'), ('Bitcoin', 'seen'), ('seen', 'front'), ('front', 'stock'), ('stock', 'graph'), ('graph', 'illustration'), ('illustration', 'taken'), ('taken', 'January'), ('January', '8'), ('8', '2021'), ('2021', 'REUTERS/Dado'), ('REUTERS/Dado', 'Ruvic/File'), ('Ruvic/File', 'Photo/File'), ('Photo/File', 'PhotoCryptocurrencies'), ('PhotoCryptocurrencies', 'posted'), ('posted', 'inflows'), ('inflows', 'last…'), ('last…', '+1506'), ('+1506', 'chars'), ('Standard', 'Chartered'), ('Chartered', 'hopping'), ('hopping', 'crypto'), ('crypto', 'trading'), ('trading', 'bandwagon'), ('bandwagon', 'The'), ('The', 'British'), ('British', 'banking'), ('banking', 'giant'), ('giant', 'today'), ('today', 'announced'), ('announced', 'innovation'), ('innovation', 'unit'), ('unit', 'SC'), ('SC', 'Ventures'), ('Ventures', 'launch'), ('launch', 'digital'), ('digital', 'asset'), ('asset', 'brokerage'), ('brokerage', 'exchange'), ('exchange', 'pla…'), ('pla…', '+1400'), ('+1400', 'chars')]\n"
     ]
    }
   ],
   "source": [
    "# Generate the Ethereum N-grams where N=2\n",
    "eth_tokens = eth_sentiment[\"tokens\"].copy()\n",
    "eth_bigrams = gen_bigrams(eth_tokens)\n",
    "print(eth_bigrams)"
   ]
  },
  {
   "cell_type": "code",
   "execution_count": 23,
   "metadata": {},
   "outputs": [],
   "source": [
    "# Function token_count generates the top 10 words for a given coin\n",
    "def token_count(tokens, N=10):\n",
    "    \"\"\"Returns the top N tokens from the frequency count\"\"\"\n",
    "    return dict(Counter(tokens).most_common(N))"
   ]
  },
  {
   "cell_type": "code",
   "execution_count": 28,
   "metadata": {},
   "outputs": [
    {
     "data": {
      "text/html": [
       "<div>\n",
       "<style scoped>\n",
       "    .dataframe tbody tr th:only-of-type {\n",
       "        vertical-align: middle;\n",
       "    }\n",
       "\n",
       "    .dataframe tbody tr th {\n",
       "        vertical-align: top;\n",
       "    }\n",
       "\n",
       "    .dataframe thead th {\n",
       "        text-align: right;\n",
       "    }\n",
       "</style>\n",
       "<table border=\"1\" class=\"dataframe\">\n",
       "  <thead>\n",
       "    <tr style=\"text-align: right;\">\n",
       "      <th></th>\n",
       "      <th>word</th>\n",
       "      <th>count</th>\n",
       "    </tr>\n",
       "  </thead>\n",
       "  <tbody>\n",
       "    <tr>\n",
       "      <th>0</th>\n",
       "      <td>chars</td>\n",
       "      <td>20</td>\n",
       "    </tr>\n",
       "    <tr>\n",
       "      <th>1</th>\n",
       "      <td>Bitcoin</td>\n",
       "      <td>14</td>\n",
       "    </tr>\n",
       "    <tr>\n",
       "      <th>2</th>\n",
       "      <td>bitcoin</td>\n",
       "      <td>7</td>\n",
       "    </tr>\n",
       "    <tr>\n",
       "      <th>3</th>\n",
       "      <td>cryptocurrency</td>\n",
       "      <td>7</td>\n",
       "    </tr>\n",
       "    <tr>\n",
       "      <th>4</th>\n",
       "      <td>illustration</td>\n",
       "      <td>6</td>\n",
       "    </tr>\n",
       "    <tr>\n",
       "      <th>5</th>\n",
       "      <td>2021</td>\n",
       "      <td>6</td>\n",
       "    </tr>\n",
       "    <tr>\n",
       "      <th>6</th>\n",
       "      <td>picture</td>\n",
       "      <td>5</td>\n",
       "    </tr>\n",
       "    <tr>\n",
       "      <th>7</th>\n",
       "      <td>taken</td>\n",
       "      <td>5</td>\n",
       "    </tr>\n",
       "    <tr>\n",
       "      <th>8</th>\n",
       "      <td>seen</td>\n",
       "      <td>5</td>\n",
       "    </tr>\n",
       "    <tr>\n",
       "      <th>9</th>\n",
       "      <td>President</td>\n",
       "      <td>4</td>\n",
       "    </tr>\n",
       "  </tbody>\n",
       "</table>\n",
       "</div>"
      ],
      "text/plain": [
       "             word  count\n",
       "0           chars     20\n",
       "1         Bitcoin     14\n",
       "2         bitcoin      7\n",
       "3  cryptocurrency      7\n",
       "4    illustration      6\n",
       "5            2021      6\n",
       "6         picture      5\n",
       "7           taken      5\n",
       "8            seen      5\n",
       "9       President      4"
      ]
     },
     "execution_count": 28,
     "metadata": {},
     "output_type": "execute_result"
    }
   ],
   "source": [
    "# Use token_count to get the top 10 words for Bitcoin\n",
    "btc_ten = token_count(combine_texts(btc_tokens))\n",
    "btc_ten_df = pd.DataFrame(btc_ten,columns=[\"word\", \"count\"])\n",
    "btc_ten_df"
   ]
  },
  {
   "cell_type": "code",
   "execution_count": 29,
   "metadata": {},
   "outputs": [
    {
     "data": {
      "text/html": [
       "<div>\n",
       "<style scoped>\n",
       "    .dataframe tbody tr th:only-of-type {\n",
       "        vertical-align: middle;\n",
       "    }\n",
       "\n",
       "    .dataframe tbody tr th {\n",
       "        vertical-align: top;\n",
       "    }\n",
       "\n",
       "    .dataframe thead th {\n",
       "        text-align: right;\n",
       "    }\n",
       "</style>\n",
       "<table border=\"1\" class=\"dataframe\">\n",
       "  <thead>\n",
       "    <tr style=\"text-align: right;\">\n",
       "      <th></th>\n",
       "      <th>word</th>\n",
       "      <th>count</th>\n",
       "    </tr>\n",
       "  </thead>\n",
       "  <tbody>\n",
       "    <tr>\n",
       "      <th>0</th>\n",
       "      <td>chars</td>\n",
       "      <td>20</td>\n",
       "    </tr>\n",
       "    <tr>\n",
       "      <th>1</th>\n",
       "      <td>digital</td>\n",
       "      <td>6</td>\n",
       "    </tr>\n",
       "    <tr>\n",
       "      <th>2</th>\n",
       "      <td>Ethereum</td>\n",
       "      <td>6</td>\n",
       "    </tr>\n",
       "    <tr>\n",
       "      <th>3</th>\n",
       "      <td>Bitcoin</td>\n",
       "      <td>6</td>\n",
       "    </tr>\n",
       "    <tr>\n",
       "      <th>4</th>\n",
       "      <td>market</td>\n",
       "      <td>5</td>\n",
       "    </tr>\n",
       "    <tr>\n",
       "      <th>5</th>\n",
       "      <td>cryptocurrencies</td>\n",
       "      <td>5</td>\n",
       "    </tr>\n",
       "    <tr>\n",
       "      <th>6</th>\n",
       "      <td>'s</td>\n",
       "      <td>4</td>\n",
       "    </tr>\n",
       "    <tr>\n",
       "      <th>7</th>\n",
       "      <td>crypto</td>\n",
       "      <td>4</td>\n",
       "    </tr>\n",
       "    <tr>\n",
       "      <th>8</th>\n",
       "      <td>seen</td>\n",
       "      <td>4</td>\n",
       "    </tr>\n",
       "    <tr>\n",
       "      <th>9</th>\n",
       "      <td>illustration</td>\n",
       "      <td>4</td>\n",
       "    </tr>\n",
       "  </tbody>\n",
       "</table>\n",
       "</div>"
      ],
      "text/plain": [
       "               word  count\n",
       "0             chars     20\n",
       "1           digital      6\n",
       "2          Ethereum      6\n",
       "3           Bitcoin      6\n",
       "4            market      5\n",
       "5  cryptocurrencies      5\n",
       "6                's      4\n",
       "7            crypto      4\n",
       "8              seen      4\n",
       "9      illustration      4"
      ]
     },
     "execution_count": 29,
     "metadata": {},
     "output_type": "execute_result"
    }
   ],
   "source": [
    "# Use token_count to get the top 10 words for Ethereum\n",
    "eth_ten = token_count(combine_texts(eth_tokens))\n",
    "eth_ten_df = pd.DataFrame(eth_ten,columns=[\"word\", \"count\"])\n",
    "eth_ten_df"
   ]
  },
  {
   "cell_type": "markdown",
   "metadata": {},
   "source": [
    "---"
   ]
  },
  {
   "cell_type": "markdown",
   "metadata": {},
   "source": [
    "### Word Clouds\n",
    "\n",
    "In this section, you will generate word clouds for each coin to summarize the news for each coin"
   ]
  },
  {
   "cell_type": "code",
   "execution_count": 32,
   "metadata": {},
   "outputs": [],
   "source": [
    "from wordcloud import WordCloud\n",
    "import matplotlib.pyplot as plt\n",
    "plt.style.use('seaborn-whitegrid')\n",
    "import matplotlib as mpl\n",
    "mpl.rcParams['figure.figsize'] = [20.0, 10.0]"
   ]
  },
  {
   "cell_type": "code",
   "execution_count": 36,
   "metadata": {},
   "outputs": [
    {
     "name": "stdout",
     "output_type": "stream",
     "text": [
      "['Hello', 'friends', 'welcome', 'back', 'Week', 'Review', 'Last', 'week', 'I', 'wrote', 'tech', 'taking', 'Disney', 'This', 'week', 'I', '’', 'talking', 'search', 'new', 'crypto', 'messiah', 'If', 'youre', 'reading', 'Tec…', '+7741', 'chars', 'By', 'Mary-Ann', 'RussonBusiness', 'reporter', 'BBC', 'News', 'image', 'copyrightGetty', 'Images', 'Former', 'US', 'President', 'Donald', 'Trump', 'told', 'Fox', 'Business', 'sees', 'Bitcoin', '``', 'scam', \"''\", 'affecting', 'value', 'US', 'dolla…', '+3638', 'chars', 'Representations', 'virtual', 'currency', 'Bitcoin', 'stand', 'motherboard', 'picture', 'illustration', 'taken', 'May', '20', '2021', 'REUTERS/Dado', 'Ruvic/Illustration/File', 'PhotoMicroStrategy', 'Inc', 'MSTR.O', 'major', 'b…', '+954', 'chars', 'Cryptocurrencies', 'bitcoin', '``', 'farce', \"''\", 'symptom', 'bubbles', 'forming', 'financial', 'markets', 'Amundi', 'chief', 'investment', 'officer', 'Pascal', 'Blanque', 'said', 'Thursday', 'Bitcoin', 'trading', 'around', '39', '…', '+709', 'chars', 'In', 'video', 'broadcast', 'Bitcoin', '2021', 'multiday', 'conference', 'Miami', 'billed', 'biggest', 'bitcoin', 'event', 'history', 'President', 'Nayib', 'Bukele', 'announced', 'El', 'Salvador', \"'s\", 'partnership', 'digital', 'wall…', '+776', 'chars', 'This', 'story', 'originally', 'appeared', 'DueTheft', 'human', 'error', 'greatest', 'risks', 'bitcoin', 'cryptocurrency', 'holders', 'There', 'many', 'benefits', 'using', 'Bitcoin', 'long', 'keep', 'private…', '+3375', 'chars', 'The', 'cryptocurrency', 'rollercoaster', 'continues', 'thanks', 'Getty/Jordan', 'Mansfield', 'Bitcoin', 'popular', 'cryptocurrencies', 'Friday', 'cryptic', 'tweet', 'Tesla', 'SpaceX', 'CEO', 'Elon', 'Musk', 'appea…', '+963', 'chars', 'Federal', 'agents', 'tracked', 'seized', 'half', '4.4', 'million', 'ransom', 'paid', 'Colonial', 'Pipeline', 'cybercriminal', 'gang', 'DarkSide', 'following', 'Mays', 'catastrophic', 'cyberattack', 'U.S.', 'Justice', 'Depa…', '+2775', 'chars', 'By', 'Reuters', 'Staff', 'MEXICO', 'CITY', 'June', '5', 'Reuters', 'El', 'Salvadors', 'President', 'Nayib', 'Bukele', 'said', 'Saturday', 'send', 'Congress', 'bill', 'next', 'week', 'make', 'bitcoin', 'legal', 'tender', 'country', 'In', '…', '+248', 'chars', 'Representations', 'Bitcoin', 'cryptocurrency', 'seen', 'front', 'image', 'Chinese', 'flags', 'illustration', 'picture', 'taken', 'June', '2', '2021', 'REUTERS/Florence', 'Lo/IllustrationA', 'slew', 'crypto-related', 'acco…', '+2170', 'chars', 'Bitcoin', 'NurPhoto/Getty', 'Images', 'The', 'number', 'active', 'bitcoin', 'addresses', 'dropped', '47', 'April', '15', 'peak', '1.36', 'million', 'around', '716,000', 'Sunday', 'according', 'data', 'blockchain', 'analytics…', '+2458', 'chars', 'Bitcoin', 'slipped', '3', 'Friday', 'Tesla', 'boss', 'Elon', 'Musk', 'fired', 'tweet', 'hinting', 'breakup', 'cryptocurrency', 'though', 'remains', 'course', 'best', 'weekly', 'gain', 'month…', '+470', 'chars', 'Representations', 'Bitcoin', 'cryptocurrency', 'seen', 'picture', 'illustration', 'taken', 'June', '7', '2021', 'REUTERS/Edgar', 'Su/IllustrationBitcoin', 'fell', 'three-week', 'low', 'Tuesday', 'amid', 'signs', 'institut…', '+1982', 'chars', 'Small', 'toy', 'figurines', 'seen', 'representations', 'Bitcoin', 'virtual', 'currency', 'displayed', 'front', 'image', 'China', \"'s\", 'flag', 'illustration', 'picture', 'April', '9', '2019', 'REUTERS/Dado', 'Ruvic/Illustra…', '+2877', 'chars', 'Blockchain', 'technology', 'company', 'Blockstream', 'Mining', 'said', 'Saturday', 'Square', 'Inc', 'SQ.N', 'invest', '5', 'million', 'build', 'open-source', 'solar-powered', 'bitcoin', 'mining', 'facility', 'one', 'Blockstream', \"'s\", '…', '+317', 'chars', 'Bitcoin', 'mining', 'uses', 'huge', 'amounts', 'energy', 'Andia/Getty', 'Images', 'Crypto', 'stocks', 'worst-performing', '``', 'basket', \"''\", 'assets', 'May', 'price', 'bitcoin', 'tokens', 'plunged', 'according', 'Saxo', '…', '+2195', 'chars', 'A', 'representation', 'virtual', 'cryptocurrency', 'Bitcoin', 'seen', 'picture', 'illustration', 'taken', 'June', '7', '2021', 'REUTERS/Edgar', 'Su/IllustrationA', 'push', 'El', 'Salvador', \"'s\", 'President', 'Nayib', 'Bukele', 'make', 'his…', '+3227', 'chars', 'On', 'Monday', 'afternoon', 'U.S.', 'Justice', 'Department', 'said', 'seized', 'much', 'cryptocurrency', 'ransom', 'U.S.', 'pipeline', 'operator', 'Colonial', 'Pipeline', 'paid', 'last', 'month', 'Russian', 'hacking', 'collective', 'ca…', '+8468', 'chars', 'This', 'article', 'translated', 'Spanish', 'edition', 'using', 'AI', 'technologies', 'Errors', 'may', 'exist', 'due', 'process', 'Nayib', 'Bukele', 'president', 'El', 'Salvador', 'announced', 'video', 'hopes', 'make…', '+790', 'chars', 'A', 'representation', 'virtual', 'currency', 'Bitcoin', 'seen', 'front', 'stock', 'graph', 'illustration', 'taken', 'January', '8', '2021', 'REUTERS/Dado', 'Ruvic/File', 'Photo/File', 'PhotoCryptocurrencies', 'posted', 'inflows', 'last…', '+1506', 'chars']\n"
     ]
    }
   ],
   "source": [
    "# Generate the Bitcoin word cloud\n",
    "comb_df = combine_texts(btc_tokens)\n",
    "# btc_wc = WordCloud().generate()\n",
    "# plt.imshow(btc_wc)\n",
    "print(comb_df)"
   ]
  },
  {
   "cell_type": "code",
   "execution_count": 23,
   "metadata": {},
   "outputs": [],
   "source": [
    "# Generate the Ethereum word cloud\n",
    "# YOUR CODE HERE!"
   ]
  },
  {
   "cell_type": "markdown",
   "metadata": {},
   "source": [
    "---\n",
    "## 3. Named Entity Recognition\n",
    "\n",
    "In this section, you will build a named entity recognition model for both Bitcoin and Ethereum, then visualize the tags using SpaCy."
   ]
  },
  {
   "cell_type": "code",
   "execution_count": 24,
   "metadata": {},
   "outputs": [],
   "source": [
    "import spacy\n",
    "from spacy import displacy"
   ]
  },
  {
   "cell_type": "code",
   "execution_count": 25,
   "metadata": {},
   "outputs": [],
   "source": [
    "# Download the language model for SpaCy\n",
    "# !python -m spacy download en_core_web_sm"
   ]
  },
  {
   "cell_type": "code",
   "execution_count": 26,
   "metadata": {},
   "outputs": [],
   "source": [
    "# Load the spaCy model\n",
    "nlp = spacy.load('en_core_web_sm')"
   ]
  },
  {
   "cell_type": "markdown",
   "metadata": {},
   "source": [
    "---\n",
    "### Bitcoin NER"
   ]
  },
  {
   "cell_type": "code",
   "execution_count": 27,
   "metadata": {},
   "outputs": [],
   "source": [
    "# Concatenate all of the Bitcoin text together\n",
    "# YOUR CODE HERE!"
   ]
  },
  {
   "cell_type": "code",
   "execution_count": 28,
   "metadata": {},
   "outputs": [],
   "source": [
    "# Run the NER processor on all of the text\n",
    "# YOUR CODE HERE!\n",
    "\n",
    "# Add a title to the document\n",
    "# YOUR CODE HERE!"
   ]
  },
  {
   "cell_type": "code",
   "execution_count": 29,
   "metadata": {},
   "outputs": [],
   "source": [
    "# Render the visualization\n",
    "# YOUR CODE HERE!"
   ]
  },
  {
   "cell_type": "code",
   "execution_count": 30,
   "metadata": {},
   "outputs": [],
   "source": [
    "# List all Entities\n",
    "# YOUR CODE HERE!"
   ]
  },
  {
   "cell_type": "markdown",
   "metadata": {},
   "source": [
    "---"
   ]
  },
  {
   "cell_type": "markdown",
   "metadata": {},
   "source": [
    "### Ethereum NER"
   ]
  },
  {
   "cell_type": "code",
   "execution_count": 31,
   "metadata": {},
   "outputs": [],
   "source": [
    "# Concatenate all of the Ethereum text together\n",
    "# YOUR CODE HERE!"
   ]
  },
  {
   "cell_type": "code",
   "execution_count": 32,
   "metadata": {},
   "outputs": [],
   "source": [
    "# Run the NER processor on all of the text\n",
    "# YOUR CODE HERE!\n",
    "\n",
    "# Add a title to the document\n",
    "# YOUR CODE HERE!"
   ]
  },
  {
   "cell_type": "code",
   "execution_count": 33,
   "metadata": {},
   "outputs": [],
   "source": [
    "# Render the visualization\n",
    "# YOUR CODE HERE!"
   ]
  },
  {
   "cell_type": "code",
   "execution_count": 34,
   "metadata": {},
   "outputs": [],
   "source": [
    "# List all Entities\n",
    "# YOUR CODE HERE!"
   ]
  },
  {
   "cell_type": "markdown",
   "metadata": {},
   "source": [
    "---"
   ]
  }
 ],
 "metadata": {
  "file_extension": ".py",
  "kernelspec": {
   "display_name": "Python 3",
   "language": "python",
   "name": "python3"
  },
  "language_info": {
   "codemirror_mode": {
    "name": "ipython",
    "version": 3
   },
   "file_extension": ".py",
   "mimetype": "text/x-python",
   "name": "python",
   "nbconvert_exporter": "python",
   "pygments_lexer": "ipython3",
   "version": "3.8.5"
  },
  "mimetype": "text/x-python",
  "name": "python",
  "npconvert_exporter": "python",
  "pygments_lexer": "ipython3",
  "version": 3
 },
 "nbformat": 4,
 "nbformat_minor": 4
}
