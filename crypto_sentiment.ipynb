{
 "cells": [
  {
   "cell_type": "markdown",
   "metadata": {},
   "source": [
    "# Unit 12 - Tales from the Crypto\n",
    "\n",
    "---\n"
   ]
  },
  {
   "cell_type": "markdown",
   "metadata": {},
   "source": [
    "## 1. Sentiment Analysis\n",
    "\n",
    "Use the [newsapi](https://newsapi.org/) to pull the latest news articles for Bitcoin and Ethereum and create a DataFrame of sentiment scores for each coin.\n",
    "\n",
    "Use descriptive statistics to answer the following questions:\n",
    "1. Which coin had the highest mean positive score?\n",
    "2. Which coin had the highest negative score?\n",
    "3. Which coin had the highest positive score?"
   ]
  },
  {
   "cell_type": "code",
   "execution_count": 34,
   "metadata": {},
   "outputs": [
    {
     "name": "stderr",
     "output_type": "stream",
     "text": [
      "[nltk_data] Downloading package vader_lexicon to\n",
      "[nltk_data]     C:\\Users\\Jordan\\AppData\\Roaming\\nltk_data...\n",
      "[nltk_data]   Package vader_lexicon is already up-to-date!\n"
     ]
    }
   ],
   "source": [
    "# Initial imports\n",
    "import os\n",
    "import pandas as pd\n",
    "import numpy as np\n",
    "from dotenv import load_dotenv\n",
    "import nltk as nltk\n",
    "from newsapi import NewsApiClient\n",
    "nltk.download('vader_lexicon')\n",
    "from nltk.sentiment.vader import SentimentIntensityAnalyzer\n",
    "analyzer = SentimentIntensityAnalyzer()\n",
    "\n",
    "%matplotlib inline"
   ]
  },
  {
   "cell_type": "code",
   "execution_count": 2,
   "metadata": {},
   "outputs": [],
   "source": [
    "# Read your api key environment variable\n",
    "load_dotenv()\n",
    "api_key = os.getenv(\"news_api\")"
   ]
  },
  {
   "cell_type": "code",
   "execution_count": 3,
   "metadata": {},
   "outputs": [],
   "source": [
    "# Create a newsapi client\n",
    "newsapi = NewsApiClient(api_key=api_key)"
   ]
  },
  {
   "cell_type": "code",
   "execution_count": 4,
   "metadata": {},
   "outputs": [],
   "source": [
    "# Fetch the Bitcoin news articles\n",
    "btc_news = newsapi.get_everything(q=\"Bitcoin\", from_param=\"2021-06-01\")"
   ]
  },
  {
   "cell_type": "code",
   "execution_count": 5,
   "metadata": {},
   "outputs": [],
   "source": [
    "# Fetch the Ethereum news articles\n",
    "eth_news = newsapi.get_everything(q=\"Ethereum\",from_param=\"2021-06-01\")"
   ]
  },
  {
   "cell_type": "code",
   "execution_count": 6,
   "metadata": {},
   "outputs": [],
   "source": [
    "def get_sent_df(topic_news):\n",
    "    sentiments = []\n",
    "    \n",
    "    for article in topic_news[\"articles\"]:\n",
    "        try:\n",
    "            text = article[\"content\"]\n",
    "            date = article[\"publishedAt\"][:10]\n",
    "            sentiment = analyzer.polarity_scores(text)\n",
    "            compound = sentiment[\"compound\"]\n",
    "            pos = sentiment[\"pos\"]\n",
    "            neu = sentiment[\"neu\"]\n",
    "            neg = sentiment[\"neg\"]\n",
    "        \n",
    "            sentiments.append({\n",
    "                \"text\": text,\n",
    "                \"date\": date,\n",
    "                \"compound\": compound,\n",
    "                \"positive\": pos,\n",
    "                \"negative\": neg,\n",
    "                \"neutral\": neu\n",
    "            \n",
    "            })\n",
    "\n",
    "        except AttributeError:\n",
    "            pass\n",
    "    \n",
    "    df = pd.DataFrame(sentiments)\n",
    "    cols = [\"date\", \"text\", \"compound\", \"positive\", \"negative\", \"neutral\"]\n",
    "    df = df[cols]\n",
    "    \n",
    "    return df"
   ]
  },
  {
   "cell_type": "code",
   "execution_count": 7,
   "metadata": {},
   "outputs": [
    {
     "data": {
      "text/html": [
       "<div>\n",
       "<style scoped>\n",
       "    .dataframe tbody tr th:only-of-type {\n",
       "        vertical-align: middle;\n",
       "    }\n",
       "\n",
       "    .dataframe tbody tr th {\n",
       "        vertical-align: top;\n",
       "    }\n",
       "\n",
       "    .dataframe thead th {\n",
       "        text-align: right;\n",
       "    }\n",
       "</style>\n",
       "<table border=\"1\" class=\"dataframe\">\n",
       "  <thead>\n",
       "    <tr style=\"text-align: right;\">\n",
       "      <th></th>\n",
       "      <th>date</th>\n",
       "      <th>text</th>\n",
       "      <th>compound</th>\n",
       "      <th>positive</th>\n",
       "      <th>negative</th>\n",
       "      <th>neutral</th>\n",
       "    </tr>\n",
       "  </thead>\n",
       "  <tbody>\n",
       "    <tr>\n",
       "      <th>0</th>\n",
       "      <td>2021-06-05</td>\n",
       "      <td>Hello friends, and welcome back to Week in Rev...</td>\n",
       "      <td>0.7500</td>\n",
       "      <td>0.154</td>\n",
       "      <td>0.000</td>\n",
       "      <td>0.846</td>\n",
       "    </tr>\n",
       "    <tr>\n",
       "      <th>1</th>\n",
       "      <td>2021-06-08</td>\n",
       "      <td>By Mary-Ann RussonBusiness reporter, BBC News\\...</td>\n",
       "      <td>0.3400</td>\n",
       "      <td>0.070</td>\n",
       "      <td>0.000</td>\n",
       "      <td>0.930</td>\n",
       "    </tr>\n",
       "    <tr>\n",
       "      <th>2</th>\n",
       "      <td>2021-06-03</td>\n",
       "      <td>Cryptocurrencies such as bitcoin are a \"farce\"...</td>\n",
       "      <td>0.0000</td>\n",
       "      <td>0.000</td>\n",
       "      <td>0.000</td>\n",
       "      <td>1.000</td>\n",
       "    </tr>\n",
       "    <tr>\n",
       "      <th>3</th>\n",
       "      <td>2021-06-05</td>\n",
       "      <td>In a video broadcast to Bitcoin 2021, a multid...</td>\n",
       "      <td>0.0000</td>\n",
       "      <td>0.000</td>\n",
       "      <td>0.000</td>\n",
       "      <td>1.000</td>\n",
       "    </tr>\n",
       "    <tr>\n",
       "      <th>4</th>\n",
       "      <td>2021-06-03</td>\n",
       "      <td>This story originally appeared on DueTheft and...</td>\n",
       "      <td>0.4588</td>\n",
       "      <td>0.160</td>\n",
       "      <td>0.113</td>\n",
       "      <td>0.728</td>\n",
       "    </tr>\n",
       "  </tbody>\n",
       "</table>\n",
       "</div>"
      ],
      "text/plain": [
       "         date                                               text  compound  \\\n",
       "0  2021-06-05  Hello friends, and welcome back to Week in Rev...    0.7500   \n",
       "1  2021-06-08  By Mary-Ann RussonBusiness reporter, BBC News\\...    0.3400   \n",
       "2  2021-06-03  Cryptocurrencies such as bitcoin are a \"farce\"...    0.0000   \n",
       "3  2021-06-05  In a video broadcast to Bitcoin 2021, a multid...    0.0000   \n",
       "4  2021-06-03  This story originally appeared on DueTheft and...    0.4588   \n",
       "\n",
       "   positive  negative  neutral  \n",
       "0     0.154     0.000    0.846  \n",
       "1     0.070     0.000    0.930  \n",
       "2     0.000     0.000    1.000  \n",
       "3     0.000     0.000    1.000  \n",
       "4     0.160     0.113    0.728  "
      ]
     },
     "execution_count": 7,
     "metadata": {},
     "output_type": "execute_result"
    }
   ],
   "source": [
    "# Create the Bitcoin sentiment scores DataFrame\n",
    "btc_sentiment = get_sent_df(btc_news)\n",
    "btc_sentiment.head()"
   ]
  },
  {
   "cell_type": "code",
   "execution_count": 8,
   "metadata": {},
   "outputs": [],
   "source": [
    "# Create the Ethereum sentiment scores DataFrame\n",
    "eth_sentiment = get_sent_df(eth_news)"
   ]
  },
  {
   "cell_type": "code",
   "execution_count": 9,
   "metadata": {},
   "outputs": [
    {
     "data": {
      "text/html": [
       "<div>\n",
       "<style scoped>\n",
       "    .dataframe tbody tr th:only-of-type {\n",
       "        vertical-align: middle;\n",
       "    }\n",
       "\n",
       "    .dataframe tbody tr th {\n",
       "        vertical-align: top;\n",
       "    }\n",
       "\n",
       "    .dataframe thead th {\n",
       "        text-align: right;\n",
       "    }\n",
       "</style>\n",
       "<table border=\"1\" class=\"dataframe\">\n",
       "  <thead>\n",
       "    <tr style=\"text-align: right;\">\n",
       "      <th></th>\n",
       "      <th>compound</th>\n",
       "      <th>positive</th>\n",
       "      <th>negative</th>\n",
       "      <th>neutral</th>\n",
       "    </tr>\n",
       "  </thead>\n",
       "  <tbody>\n",
       "    <tr>\n",
       "      <th>count</th>\n",
       "      <td>20.000000</td>\n",
       "      <td>20.000000</td>\n",
       "      <td>20.000000</td>\n",
       "      <td>20.000000</td>\n",
       "    </tr>\n",
       "    <tr>\n",
       "      <th>mean</th>\n",
       "      <td>0.240275</td>\n",
       "      <td>0.082950</td>\n",
       "      <td>0.027700</td>\n",
       "      <td>0.889350</td>\n",
       "    </tr>\n",
       "    <tr>\n",
       "      <th>std</th>\n",
       "      <td>0.336668</td>\n",
       "      <td>0.093365</td>\n",
       "      <td>0.040175</td>\n",
       "      <td>0.115746</td>\n",
       "    </tr>\n",
       "    <tr>\n",
       "      <th>min</th>\n",
       "      <td>-0.292400</td>\n",
       "      <td>0.000000</td>\n",
       "      <td>0.000000</td>\n",
       "      <td>0.582000</td>\n",
       "    </tr>\n",
       "    <tr>\n",
       "      <th>25%</th>\n",
       "      <td>0.000000</td>\n",
       "      <td>0.000000</td>\n",
       "      <td>0.000000</td>\n",
       "      <td>0.828250</td>\n",
       "    </tr>\n",
       "    <tr>\n",
       "      <th>50%</th>\n",
       "      <td>0.077150</td>\n",
       "      <td>0.072500</td>\n",
       "      <td>0.000000</td>\n",
       "      <td>0.908000</td>\n",
       "    </tr>\n",
       "    <tr>\n",
       "      <th>75%</th>\n",
       "      <td>0.497200</td>\n",
       "      <td>0.155500</td>\n",
       "      <td>0.065250</td>\n",
       "      <td>1.000000</td>\n",
       "    </tr>\n",
       "    <tr>\n",
       "      <th>max</th>\n",
       "      <td>0.921700</td>\n",
       "      <td>0.351000</td>\n",
       "      <td>0.113000</td>\n",
       "      <td>1.000000</td>\n",
       "    </tr>\n",
       "  </tbody>\n",
       "</table>\n",
       "</div>"
      ],
      "text/plain": [
       "        compound   positive   negative    neutral\n",
       "count  20.000000  20.000000  20.000000  20.000000\n",
       "mean    0.240275   0.082950   0.027700   0.889350\n",
       "std     0.336668   0.093365   0.040175   0.115746\n",
       "min    -0.292400   0.000000   0.000000   0.582000\n",
       "25%     0.000000   0.000000   0.000000   0.828250\n",
       "50%     0.077150   0.072500   0.000000   0.908000\n",
       "75%     0.497200   0.155500   0.065250   1.000000\n",
       "max     0.921700   0.351000   0.113000   1.000000"
      ]
     },
     "execution_count": 9,
     "metadata": {},
     "output_type": "execute_result"
    }
   ],
   "source": [
    "# Describe the Bitcoin Sentiment\n",
    "btc_sentiment.describe()"
   ]
  },
  {
   "cell_type": "code",
   "execution_count": 10,
   "metadata": {},
   "outputs": [
    {
     "data": {
      "text/html": [
       "<div>\n",
       "<style scoped>\n",
       "    .dataframe tbody tr th:only-of-type {\n",
       "        vertical-align: middle;\n",
       "    }\n",
       "\n",
       "    .dataframe tbody tr th {\n",
       "        vertical-align: top;\n",
       "    }\n",
       "\n",
       "    .dataframe thead th {\n",
       "        text-align: right;\n",
       "    }\n",
       "</style>\n",
       "<table border=\"1\" class=\"dataframe\">\n",
       "  <thead>\n",
       "    <tr style=\"text-align: right;\">\n",
       "      <th></th>\n",
       "      <th>compound</th>\n",
       "      <th>positive</th>\n",
       "      <th>negative</th>\n",
       "      <th>neutral</th>\n",
       "    </tr>\n",
       "  </thead>\n",
       "  <tbody>\n",
       "    <tr>\n",
       "      <th>count</th>\n",
       "      <td>20.000000</td>\n",
       "      <td>20.000000</td>\n",
       "      <td>20.00000</td>\n",
       "      <td>20.000000</td>\n",
       "    </tr>\n",
       "    <tr>\n",
       "      <th>mean</th>\n",
       "      <td>0.198135</td>\n",
       "      <td>0.067750</td>\n",
       "      <td>0.01800</td>\n",
       "      <td>0.914250</td>\n",
       "    </tr>\n",
       "    <tr>\n",
       "      <th>std</th>\n",
       "      <td>0.341426</td>\n",
       "      <td>0.076853</td>\n",
       "      <td>0.04171</td>\n",
       "      <td>0.095173</td>\n",
       "    </tr>\n",
       "    <tr>\n",
       "      <th>min</th>\n",
       "      <td>-0.458800</td>\n",
       "      <td>0.000000</td>\n",
       "      <td>0.00000</td>\n",
       "      <td>0.655000</td>\n",
       "    </tr>\n",
       "    <tr>\n",
       "      <th>25%</th>\n",
       "      <td>0.000000</td>\n",
       "      <td>0.000000</td>\n",
       "      <td>0.00000</td>\n",
       "      <td>0.849000</td>\n",
       "    </tr>\n",
       "    <tr>\n",
       "      <th>50%</th>\n",
       "      <td>0.064000</td>\n",
       "      <td>0.054000</td>\n",
       "      <td>0.00000</td>\n",
       "      <td>0.928500</td>\n",
       "    </tr>\n",
       "    <tr>\n",
       "      <th>75%</th>\n",
       "      <td>0.477750</td>\n",
       "      <td>0.126000</td>\n",
       "      <td>0.00000</td>\n",
       "      <td>1.000000</td>\n",
       "    </tr>\n",
       "    <tr>\n",
       "      <th>max</th>\n",
       "      <td>0.750000</td>\n",
       "      <td>0.246000</td>\n",
       "      <td>0.15100</td>\n",
       "      <td>1.000000</td>\n",
       "    </tr>\n",
       "  </tbody>\n",
       "</table>\n",
       "</div>"
      ],
      "text/plain": [
       "        compound   positive  negative    neutral\n",
       "count  20.000000  20.000000  20.00000  20.000000\n",
       "mean    0.198135   0.067750   0.01800   0.914250\n",
       "std     0.341426   0.076853   0.04171   0.095173\n",
       "min    -0.458800   0.000000   0.00000   0.655000\n",
       "25%     0.000000   0.000000   0.00000   0.849000\n",
       "50%     0.064000   0.054000   0.00000   0.928500\n",
       "75%     0.477750   0.126000   0.00000   1.000000\n",
       "max     0.750000   0.246000   0.15100   1.000000"
      ]
     },
     "execution_count": 10,
     "metadata": {},
     "output_type": "execute_result"
    }
   ],
   "source": [
    "# Describe the Ethereum Sentiment\n",
    "eth_sentiment.describe()"
   ]
  },
  {
   "cell_type": "markdown",
   "metadata": {},
   "source": [
    "### Questions:\n",
    "\n",
    "Q: Which coin had the highest mean positive score?\n",
    "\n",
    "A: btc had a higher mean positive score.\n",
    "\n",
    "Q: Which coin had the highest compound score?\n",
    "\n",
    "A: btc had a higher compound score.\n",
    "\n",
    "Q. Which coin had the highest positive score?\n",
    "\n",
    "A: btc had a higher positive score."
   ]
  },
  {
   "cell_type": "markdown",
   "metadata": {},
   "source": [
    "---"
   ]
  },
  {
   "cell_type": "markdown",
   "metadata": {},
   "source": [
    "## 2. Natural Language Processing\n",
    "---\n",
    "###   Tokenizer\n",
    "\n",
    "In this section, you will use NLTK and Python to tokenize the text for each coin. Be sure to:\n",
    "1. Lowercase each word.\n",
    "2. Remove Punctuation.\n",
    "3. Remove Stopwords."
   ]
  },
  {
   "cell_type": "code",
   "execution_count": 11,
   "metadata": {},
   "outputs": [],
   "source": [
    "from nltk.tokenize import word_tokenize, sent_tokenize\n",
    "from nltk.corpus import stopwords\n",
    "from nltk.stem import WordNetLemmatizer, PorterStemmer\n",
    "from string import punctuation\n",
    "import re"
   ]
  },
  {
   "cell_type": "code",
   "execution_count": 12,
   "metadata": {},
   "outputs": [
    {
     "data": {
      "text/plain": [
       "'!\"#$%&\\'()*+,-./:;<=>?@[\\\\]^_`{|}~'"
      ]
     },
     "execution_count": 12,
     "metadata": {},
     "output_type": "execute_result"
    }
   ],
   "source": [
    "punctuation"
   ]
  },
  {
   "cell_type": "code",
   "execution_count": 13,
   "metadata": {},
   "outputs": [],
   "source": [
    "# Instantiate the lemmatizer\n",
    "lemmatizer = WordNetLemmatizer()\n",
    "# Create a list of stopwords\n",
    "sw = set(stopwords.words('english'))\n",
    "\n",
    "# Expand the default stopwords list if necessary\n",
    "# YOUR CODE HERE!"
   ]
  },
  {
   "cell_type": "code",
   "execution_count": 14,
   "metadata": {},
   "outputs": [],
   "source": [
    "# Complete the tokenizer function\n",
    "def tokenizer(text):\n",
    "    \"\"\"Tokenizes text.\"\"\"\n",
    "    \n",
    "    # Create a tokenized list of the words\n",
    "    words = word_tokenize(text)\n",
    "   \n",
    "    # Convert the words to lowercase\n",
    "    \n",
    "    words = list(filter(lambda word: word.lower(), words))\n",
    "   # lc_words = [word.lower() for word in words if word.lower() not in sw]\n",
    "    \n",
    "    # Remove the punctuation from text\n",
    "    words = list(filter(lambda p: p not in punctuation, words))\n",
    "    \n",
    "    # Remove the stop words\n",
    "    words = list(filter(lambda word: word not in sw, words))\n",
    "    \n",
    "    # Lemmatize words into root words\n",
    "    tokens = list(filter(lambda word: lemmatizer.lemmatize(word), words))\n",
    "    #tokens = [lemmatizer.lemmatize(word) for word in words]\n",
    "    return tokens"
   ]
  },
  {
   "cell_type": "code",
   "execution_count": 15,
   "metadata": {},
   "outputs": [
    {
     "data": {
      "text/html": [
       "<div>\n",
       "<style scoped>\n",
       "    .dataframe tbody tr th:only-of-type {\n",
       "        vertical-align: middle;\n",
       "    }\n",
       "\n",
       "    .dataframe tbody tr th {\n",
       "        vertical-align: top;\n",
       "    }\n",
       "\n",
       "    .dataframe thead th {\n",
       "        text-align: right;\n",
       "    }\n",
       "</style>\n",
       "<table border=\"1\" class=\"dataframe\">\n",
       "  <thead>\n",
       "    <tr style=\"text-align: right;\">\n",
       "      <th></th>\n",
       "      <th>date</th>\n",
       "      <th>text</th>\n",
       "      <th>compound</th>\n",
       "      <th>positive</th>\n",
       "      <th>negative</th>\n",
       "      <th>neutral</th>\n",
       "      <th>tokens</th>\n",
       "    </tr>\n",
       "  </thead>\n",
       "  <tbody>\n",
       "    <tr>\n",
       "      <th>0</th>\n",
       "      <td>2021-06-05</td>\n",
       "      <td>Hello friends, and welcome back to Week in Rev...</td>\n",
       "      <td>0.7500</td>\n",
       "      <td>0.154</td>\n",
       "      <td>0.000</td>\n",
       "      <td>0.846</td>\n",
       "      <td>[Hello, friends, welcome, back, Week, Review, ...</td>\n",
       "    </tr>\n",
       "    <tr>\n",
       "      <th>1</th>\n",
       "      <td>2021-06-08</td>\n",
       "      <td>By Mary-Ann RussonBusiness reporter, BBC News\\...</td>\n",
       "      <td>0.3400</td>\n",
       "      <td>0.070</td>\n",
       "      <td>0.000</td>\n",
       "      <td>0.930</td>\n",
       "      <td>[By, Mary-Ann, RussonBusiness, reporter, BBC, ...</td>\n",
       "    </tr>\n",
       "    <tr>\n",
       "      <th>2</th>\n",
       "      <td>2021-06-03</td>\n",
       "      <td>Cryptocurrencies such as bitcoin are a \"farce\"...</td>\n",
       "      <td>0.0000</td>\n",
       "      <td>0.000</td>\n",
       "      <td>0.000</td>\n",
       "      <td>1.000</td>\n",
       "      <td>[Cryptocurrencies, bitcoin, ``, farce, '', sym...</td>\n",
       "    </tr>\n",
       "    <tr>\n",
       "      <th>3</th>\n",
       "      <td>2021-06-05</td>\n",
       "      <td>In a video broadcast to Bitcoin 2021, a multid...</td>\n",
       "      <td>0.0000</td>\n",
       "      <td>0.000</td>\n",
       "      <td>0.000</td>\n",
       "      <td>1.000</td>\n",
       "      <td>[In, video, broadcast, Bitcoin, 2021, multiday...</td>\n",
       "    </tr>\n",
       "    <tr>\n",
       "      <th>4</th>\n",
       "      <td>2021-06-03</td>\n",
       "      <td>This story originally appeared on DueTheft and...</td>\n",
       "      <td>0.4588</td>\n",
       "      <td>0.160</td>\n",
       "      <td>0.113</td>\n",
       "      <td>0.728</td>\n",
       "      <td>[This, story, originally, appeared, DueTheft, ...</td>\n",
       "    </tr>\n",
       "  </tbody>\n",
       "</table>\n",
       "</div>"
      ],
      "text/plain": [
       "         date                                               text  compound  \\\n",
       "0  2021-06-05  Hello friends, and welcome back to Week in Rev...    0.7500   \n",
       "1  2021-06-08  By Mary-Ann RussonBusiness reporter, BBC News\\...    0.3400   \n",
       "2  2021-06-03  Cryptocurrencies such as bitcoin are a \"farce\"...    0.0000   \n",
       "3  2021-06-05  In a video broadcast to Bitcoin 2021, a multid...    0.0000   \n",
       "4  2021-06-03  This story originally appeared on DueTheft and...    0.4588   \n",
       "\n",
       "   positive  negative  neutral  \\\n",
       "0     0.154     0.000    0.846   \n",
       "1     0.070     0.000    0.930   \n",
       "2     0.000     0.000    1.000   \n",
       "3     0.000     0.000    1.000   \n",
       "4     0.160     0.113    0.728   \n",
       "\n",
       "                                              tokens  \n",
       "0  [Hello, friends, welcome, back, Week, Review, ...  \n",
       "1  [By, Mary-Ann, RussonBusiness, reporter, BBC, ...  \n",
       "2  [Cryptocurrencies, bitcoin, ``, farce, '', sym...  \n",
       "3  [In, video, broadcast, Bitcoin, 2021, multiday...  \n",
       "4  [This, story, originally, appeared, DueTheft, ...  "
      ]
     },
     "execution_count": 15,
     "metadata": {},
     "output_type": "execute_result"
    }
   ],
   "source": [
    "# Create a new tokens column for Bitcoin\n",
    "btc_sentiment[\"tokens\"] = btc_sentiment[\"text\"].apply(tokenizer)\n",
    "btc_sentiment.head()"
   ]
  },
  {
   "cell_type": "code",
   "execution_count": 16,
   "metadata": {},
   "outputs": [
    {
     "data": {
      "text/html": [
       "<div>\n",
       "<style scoped>\n",
       "    .dataframe tbody tr th:only-of-type {\n",
       "        vertical-align: middle;\n",
       "    }\n",
       "\n",
       "    .dataframe tbody tr th {\n",
       "        vertical-align: top;\n",
       "    }\n",
       "\n",
       "    .dataframe thead th {\n",
       "        text-align: right;\n",
       "    }\n",
       "</style>\n",
       "<table border=\"1\" class=\"dataframe\">\n",
       "  <thead>\n",
       "    <tr style=\"text-align: right;\">\n",
       "      <th></th>\n",
       "      <th>date</th>\n",
       "      <th>text</th>\n",
       "      <th>compound</th>\n",
       "      <th>positive</th>\n",
       "      <th>negative</th>\n",
       "      <th>neutral</th>\n",
       "      <th>tokens</th>\n",
       "    </tr>\n",
       "  </thead>\n",
       "  <tbody>\n",
       "    <tr>\n",
       "      <th>0</th>\n",
       "      <td>2021-06-03</td>\n",
       "      <td>This new mining feature is called 'Norton Cryp...</td>\n",
       "      <td>0.0000</td>\n",
       "      <td>0.000</td>\n",
       "      <td>0.000</td>\n",
       "      <td>1.000</td>\n",
       "      <td>[This, new, mining, feature, called, 'Norton, ...</td>\n",
       "    </tr>\n",
       "    <tr>\n",
       "      <th>1</th>\n",
       "      <td>2021-06-04</td>\n",
       "      <td>CryptoPunks represent the only historically re...</td>\n",
       "      <td>-0.4588</td>\n",
       "      <td>0.067</td>\n",
       "      <td>0.151</td>\n",
       "      <td>0.782</td>\n",
       "      <td>[CryptoPunks, represent, historically, relevan...</td>\n",
       "    </tr>\n",
       "    <tr>\n",
       "      <th>2</th>\n",
       "      <td>2021-06-01</td>\n",
       "      <td>Yao Qian, the former head of China's digital y...</td>\n",
       "      <td>0.3612</td>\n",
       "      <td>0.070</td>\n",
       "      <td>0.000</td>\n",
       "      <td>0.930</td>\n",
       "      <td>[Yao, Qian, former, head, China, 's, digital, ...</td>\n",
       "    </tr>\n",
       "    <tr>\n",
       "      <th>3</th>\n",
       "      <td>2021-06-01</td>\n",
       "      <td>A consumer uses a digital yuan red envelope in...</td>\n",
       "      <td>0.0000</td>\n",
       "      <td>0.000</td>\n",
       "      <td>0.000</td>\n",
       "      <td>1.000</td>\n",
       "      <td>[A, consumer, uses, digital, yuan, red, envelo...</td>\n",
       "    </tr>\n",
       "    <tr>\n",
       "      <th>4</th>\n",
       "      <td>2021-06-03</td>\n",
       "      <td>One of the biggest challenges for developers b...</td>\n",
       "      <td>0.4588</td>\n",
       "      <td>0.118</td>\n",
       "      <td>0.000</td>\n",
       "      <td>0.882</td>\n",
       "      <td>[One, biggest, challenges, developers, buildin...</td>\n",
       "    </tr>\n",
       "  </tbody>\n",
       "</table>\n",
       "</div>"
      ],
      "text/plain": [
       "         date                                               text  compound  \\\n",
       "0  2021-06-03  This new mining feature is called 'Norton Cryp...    0.0000   \n",
       "1  2021-06-04  CryptoPunks represent the only historically re...   -0.4588   \n",
       "2  2021-06-01  Yao Qian, the former head of China's digital y...    0.3612   \n",
       "3  2021-06-01  A consumer uses a digital yuan red envelope in...    0.0000   \n",
       "4  2021-06-03  One of the biggest challenges for developers b...    0.4588   \n",
       "\n",
       "   positive  negative  neutral  \\\n",
       "0     0.000     0.000    1.000   \n",
       "1     0.067     0.151    0.782   \n",
       "2     0.070     0.000    0.930   \n",
       "3     0.000     0.000    1.000   \n",
       "4     0.118     0.000    0.882   \n",
       "\n",
       "                                              tokens  \n",
       "0  [This, new, mining, feature, called, 'Norton, ...  \n",
       "1  [CryptoPunks, represent, historically, relevan...  \n",
       "2  [Yao, Qian, former, head, China, 's, digital, ...  \n",
       "3  [A, consumer, uses, digital, yuan, red, envelo...  \n",
       "4  [One, biggest, challenges, developers, buildin...  "
      ]
     },
     "execution_count": 16,
     "metadata": {},
     "output_type": "execute_result"
    }
   ],
   "source": [
    "# Create a new tokens column for Ethereum\n",
    "eth_sentiment[\"tokens\"] = eth_sentiment[\"text\"].apply(tokenizer)\n",
    "eth_sentiment.head()"
   ]
  },
  {
   "cell_type": "markdown",
   "metadata": {},
   "source": [
    "---"
   ]
  },
  {
   "cell_type": "markdown",
   "metadata": {},
   "source": [
    "### NGrams and Frequency Analysis\n",
    "\n",
    "In this section you will look at the ngrams and word frequency for each coin. \n",
    "\n",
    "1. Use NLTK to produce the n-grams for N = 2. \n",
    "2. List the top 10 words for each coin. "
   ]
  },
  {
   "cell_type": "code",
   "execution_count": 17,
   "metadata": {},
   "outputs": [],
   "source": [
    "from collections import Counter\n",
    "from nltk import ngrams"
   ]
  },
  {
   "cell_type": "code",
   "execution_count": 29,
   "metadata": {},
   "outputs": [],
   "source": [
    "def gen_bigrams(tokens): \n",
    "    bigrams = ngrams(tokens, n=2)\n",
    "    return list(bigrams)"
   ]
  },
  {
   "cell_type": "code",
   "execution_count": 45,
   "metadata": {},
   "outputs": [],
   "source": [
    "# Generate the Bitcoin N-grams where N=2\n",
    "btc_tokens = btc_sentiment[\"tokens\"].copy()\n",
    "btc_bigrams = btc_tokens.apply(gen_bigrams)"
   ]
  },
  {
   "cell_type": "code",
   "execution_count": 51,
   "metadata": {},
   "outputs": [
    {
     "data": {
      "text/plain": [
       "0     [(Hello, friends), (friends, welcome), (welcom...\n",
       "1     [(By, Mary-Ann), (Mary-Ann, RussonBusiness), (...\n",
       "2     [(Cryptocurrencies, bitcoin), (bitcoin, ``), (...\n",
       "3     [(In, video), (video, broadcast), (broadcast, ...\n",
       "4     [(This, story), (story, originally), (original...\n",
       "5     [(The, cryptocurrency), (cryptocurrency, rolle...\n",
       "6     [(Federal, agents), (agents, tracked), (tracke...\n",
       "7     [(By, Reuters), (Reuters, Staff), (Staff, MEXI...\n",
       "8     [(Representations, Bitcoin), (Bitcoin, cryptoc...\n",
       "9     [(Bitcoin, NurPhoto/Getty), (NurPhoto/Getty, I...\n",
       "10    [(Bitcoin, slipped), (slipped, 3), (3, Friday)...\n",
       "11    [(Small, toy), (toy, figurines), (figurines, s...\n",
       "12    [(Blockchain, technology), (technology, compan...\n",
       "13    [(Bitcoin, mining), (mining, uses), (uses, hug...\n",
       "14    [(A, representation), (representation, virtual...\n",
       "15    [(This, article), (article, translated), (tran...\n",
       "16    [(A, representation), (representation, virtual...\n",
       "17    [(The, crypto), (crypto, world), (world, saw),...\n",
       "18    [(The, Fine), (Fine, Print), (Print, The), (Th...\n",
       "19    [(Asset, managers), (managers, tasked), (taske...\n",
       "Name: tokens, dtype: object"
      ]
     },
     "execution_count": 51,
     "metadata": {},
     "output_type": "execute_result"
    }
   ],
   "source": [
    "zip(btc_bigrams)\n",
    "# map(list,zip(btc_tokens))\n",
    "btc_bigrams"
   ]
  },
  {
   "cell_type": "code",
   "execution_count": 44,
   "metadata": {},
   "outputs": [],
   "source": [
    "# btc_all = np.concatenate(btc_bigrams.copy())\n",
    "# btc_all"
   ]
  },
  {
   "cell_type": "code",
   "execution_count": 66,
   "metadata": {},
   "outputs": [
    {
     "data": {
      "text/plain": [
       "0     [(This, new), (new, mining), (mining, feature)...\n",
       "1     [(CryptoPunks, represent), (represent, histori...\n",
       "2     [(Yao, Qian), (Qian, former), (former, head), ...\n",
       "3     [(A, consumer), (consumer, uses), (uses, digit...\n",
       "4     [(One, biggest), (biggest, challenges), (chall...\n",
       "5     [(By, Reuters), (Reuters, Staff), (Staff, FILE...\n",
       "6     [(Representations, cryptocurrencies), (cryptoc...\n",
       "7     [(After, almost), (almost, 8), (8, years), (ye...\n",
       "8     [(This, week), (week, SpaceX), (SpaceX, launch...\n",
       "9     [(While, almost), (almost, certainly), (certai...\n",
       "10    [(Los, NFT), (NFT, plantean), (plantean, una),...\n",
       "11    [(The, cryptocurrency), (cryptocurrency, rolle...\n",
       "12    [(Ethereum, hot), (hot, commodity), (commodity...\n",
       "13    [(Representations, cryptocurrencies), (cryptoc...\n",
       "14    [(A, representation), (representation, virtual...\n",
       "15    [(Standard, Chartered), (Chartered, hopping), ...\n",
       "16    [(El, negocio), (negocio, de), (de, las), (las...\n",
       "17    [(Hello, friends), (friends, welcome), (welcom...\n",
       "18    [(Personal, Finance), (Finance, Insider), (Ins...\n",
       "19    [(This, year), (year, 's), ('s, boom), (boom, ...\n",
       "Name: tokens, dtype: object"
      ]
     },
     "execution_count": 66,
     "metadata": {},
     "output_type": "execute_result"
    }
   ],
   "source": [
    "# Generate the Ethereum N-grams where N=2\n",
    "eth_bigrams = eth_sentiment[\"tokens\"].apply(gen_bigrams)\n",
    "eth_bigrams"
   ]
  },
  {
   "cell_type": "code",
   "execution_count": 67,
   "metadata": {},
   "outputs": [],
   "source": [
    "# Function token_count generates the top 10 words for a given coin\n",
    "def token_count(tokens, N=10):\n",
    "    \"\"\"Returns the top N tokens from the frequency count\"\"\"\n",
    "    return Counter(tokens).most_common(N)"
   ]
  },
  {
   "cell_type": "code",
   "execution_count": 75,
   "metadata": {},
   "outputs": [
    {
     "data": {
      "text/html": [
       "<div>\n",
       "<style scoped>\n",
       "    .dataframe tbody tr th:only-of-type {\n",
       "        vertical-align: middle;\n",
       "    }\n",
       "\n",
       "    .dataframe tbody tr th {\n",
       "        vertical-align: top;\n",
       "    }\n",
       "\n",
       "    .dataframe thead th {\n",
       "        text-align: right;\n",
       "    }\n",
       "</style>\n",
       "<table border=\"1\" class=\"dataframe\">\n",
       "  <thead>\n",
       "    <tr style=\"text-align: right;\">\n",
       "      <th></th>\n",
       "      <th>word</th>\n",
       "      <th>count</th>\n",
       "    </tr>\n",
       "  </thead>\n",
       "  <tbody>\n",
       "    <tr>\n",
       "      <th>0</th>\n",
       "      <td>0</td>\n",
       "      <td>[(week, 2), (I, 2), (Hello, 1), (friends, 1), ...</td>\n",
       "    </tr>\n",
       "    <tr>\n",
       "      <th>1</th>\n",
       "      <td>1</td>\n",
       "      <td>[(Cryptocurrencies, 1), (bitcoin, 1), (``, 1),...</td>\n",
       "    </tr>\n",
       "    <tr>\n",
       "      <th>2</th>\n",
       "      <td>2</td>\n",
       "      <td>[(This, 1), (story, 1), (originally, 1), (appe...</td>\n",
       "    </tr>\n",
       "    <tr>\n",
       "      <th>3</th>\n",
       "      <td>3</td>\n",
       "      <td>[(The, 1), (cryptocurrency, 1), (rollercoaster...</td>\n",
       "    </tr>\n",
       "    <tr>\n",
       "      <th>4</th>\n",
       "      <td>4</td>\n",
       "      <td>[(Bitcoin, 1), (slipped, 1), (3, 1), (Friday, ...</td>\n",
       "    </tr>\n",
       "    <tr>\n",
       "      <th>5</th>\n",
       "      <td>5</td>\n",
       "      <td>[(Small, 1), (toy, 1), (figurines, 1), (seen, ...</td>\n",
       "    </tr>\n",
       "    <tr>\n",
       "      <th>6</th>\n",
       "      <td>6</td>\n",
       "      <td>[(Blockstream, 2), (Blockchain, 1), (technolog...</td>\n",
       "    </tr>\n",
       "    <tr>\n",
       "      <th>7</th>\n",
       "      <td>7</td>\n",
       "      <td>[(Bitcoin, 1), (mining, 1), (uses, 1), (huge, ...</td>\n",
       "    </tr>\n",
       "    <tr>\n",
       "      <th>8</th>\n",
       "      <td>8</td>\n",
       "      <td>[(The, 2), (Fine, 1), (Print, 1), (following, ...</td>\n",
       "    </tr>\n",
       "    <tr>\n",
       "      <th>9</th>\n",
       "      <td>9</td>\n",
       "      <td>[(A, 1), (representation, 1), (virtual, 1), (c...</td>\n",
       "    </tr>\n",
       "    <tr>\n",
       "      <th>10</th>\n",
       "      <td>10</td>\n",
       "      <td>[(NFTs, 2), (The, 1), (crypto, 1), (world, 1),...</td>\n",
       "    </tr>\n",
       "    <tr>\n",
       "      <th>11</th>\n",
       "      <td>11</td>\n",
       "      <td>[(Asset, 1), (managers, 1), (tasked, 1), (grow...</td>\n",
       "    </tr>\n",
       "    <tr>\n",
       "      <th>12</th>\n",
       "      <td>12</td>\n",
       "      <td>[(digital, 2), (Tomohiro, 1), (Ohsumi/David, 1...</td>\n",
       "    </tr>\n",
       "    <tr>\n",
       "      <th>13</th>\n",
       "      <td>13</td>\n",
       "      <td>[(new, 2), (This, 1), (article, 1), (translate...</td>\n",
       "    </tr>\n",
       "    <tr>\n",
       "      <th>14</th>\n",
       "      <td>14</td>\n",
       "      <td>[(The, 1), (hedge-fund, 1), (world, 1), (n't, ...</td>\n",
       "    </tr>\n",
       "    <tr>\n",
       "      <th>15</th>\n",
       "      <td>15</td>\n",
       "      <td>[(Matt, 1), (Weinberger, 1), (Billionaire, 1),...</td>\n",
       "    </tr>\n",
       "    <tr>\n",
       "      <th>16</th>\n",
       "      <td>16</td>\n",
       "      <td>[(Cryptocurrencies, 1), (bitcoin, 1), (likely,...</td>\n",
       "    </tr>\n",
       "    <tr>\n",
       "      <th>17</th>\n",
       "      <td>17</td>\n",
       "      <td>[(Now, 1), (cryptocurrencies, 1), (become, 1),...</td>\n",
       "    </tr>\n",
       "    <tr>\n",
       "      <th>18</th>\n",
       "      <td>18</td>\n",
       "      <td>[(Hillary, 1), (Schieve, 1), (mayor, 1), (Reno...</td>\n",
       "    </tr>\n",
       "    <tr>\n",
       "      <th>19</th>\n",
       "      <td>19</td>\n",
       "      <td>[(This, 1), (story, 1), (originally, 1), (appe...</td>\n",
       "    </tr>\n",
       "  </tbody>\n",
       "</table>\n",
       "</div>"
      ],
      "text/plain": [
       "    word                                              count\n",
       "0      0  [(week, 2), (I, 2), (Hello, 1), (friends, 1), ...\n",
       "1      1  [(Cryptocurrencies, 1), (bitcoin, 1), (``, 1),...\n",
       "2      2  [(This, 1), (story, 1), (originally, 1), (appe...\n",
       "3      3  [(The, 1), (cryptocurrency, 1), (rollercoaster...\n",
       "4      4  [(Bitcoin, 1), (slipped, 1), (3, 1), (Friday, ...\n",
       "5      5  [(Small, 1), (toy, 1), (figurines, 1), (seen, ...\n",
       "6      6  [(Blockstream, 2), (Blockchain, 1), (technolog...\n",
       "7      7  [(Bitcoin, 1), (mining, 1), (uses, 1), (huge, ...\n",
       "8      8  [(The, 2), (Fine, 1), (Print, 1), (following, ...\n",
       "9      9  [(A, 1), (representation, 1), (virtual, 1), (c...\n",
       "10    10  [(NFTs, 2), (The, 1), (crypto, 1), (world, 1),...\n",
       "11    11  [(Asset, 1), (managers, 1), (tasked, 1), (grow...\n",
       "12    12  [(digital, 2), (Tomohiro, 1), (Ohsumi/David, 1...\n",
       "13    13  [(new, 2), (This, 1), (article, 1), (translate...\n",
       "14    14  [(The, 1), (hedge-fund, 1), (world, 1), (n't, ...\n",
       "15    15  [(Matt, 1), (Weinberger, 1), (Billionaire, 1),...\n",
       "16    16  [(Cryptocurrencies, 1), (bitcoin, 1), (likely,...\n",
       "17    17  [(Now, 1), (cryptocurrencies, 1), (become, 1),...\n",
       "18    18  [(Hillary, 1), (Schieve, 1), (mayor, 1), (Reno...\n",
       "19    19  [(This, 1), (story, 1), (originally, 1), (appe..."
      ]
     },
     "execution_count": 75,
     "metadata": {},
     "output_type": "execute_result"
    }
   ],
   "source": [
    "# Use token_count to get the top 10 words for Bitcoin\n",
    "btc_10 = btc_sentiment[\"tokens\"].apply(token_count)\n",
    "btc_10 = pd.DataFrame(list(btc_10.items()),columns=[\"word\", \"count\"])\n",
    "btc_10"
   ]
  },
  {
   "cell_type": "code",
   "execution_count": 72,
   "metadata": {},
   "outputs": [
    {
     "data": {
      "text/plain": [
       "0     [(Norton, 3), (Crypto, 2), (This, 1), (new, 1)...\n",
       "1     [(CryptoPunks, 1), (represent, 1), (historical...\n",
       "2     [(digital, 2), (Yao, 1), (Qian, 1), (former, 1...\n",
       "3     [(digital, 3), (yuan, 2), ('s, 2), (A, 1), (co...\n",
       "4     [(One, 1), (biggest, 1), (challenges, 1), (dev...\n",
       "5     [(By, 1), (Reuters, 1), (Staff, 1), (FILE, 1),...\n",
       "6     [(Representations, 1), (cryptocurrencies, 1), ...\n",
       "7     [(After, 1), (almost, 1), (8, 1), (years, 1), ...\n",
       "8     [(SpaceX, 2), (ETH, 2), (node, 2), (This, 1), ...\n",
       "9     [(new, 2), (While, 1), (almost, 1), (certainly...\n",
       "10    [(una, 2), (del, 2), (Los, 1), (NFT, 1), (plan...\n",
       "11    [(The, 1), (cryptocurrency, 1), (rollercoaster...\n",
       "12    [(Ethereum, 1), (hot, 1), (commodity, 1), (cry...\n",
       "13    [(Representations, 1), (cryptocurrencies, 1), ...\n",
       "14    [(A, 1), (representation, 1), (virtual, 1), (c...\n",
       "15    [(Standard, 1), (Chartered, 1), (hopping, 1), ...\n",
       "16    [(de, 3), (el, 2), (El, 1), (negocio, 1), (las...\n",
       "17    [(week, 2), (I, 2), (Hello, 1), (friends, 1), ...\n",
       "18    [(Personal, 1), (Finance, 1), (Insider, 1), (w...\n",
       "19    [(This, 1), (year, 1), ('s, 1), (boom, 1), (cr...\n",
       "Name: tokens, dtype: object"
      ]
     },
     "execution_count": 72,
     "metadata": {},
     "output_type": "execute_result"
    }
   ],
   "source": [
    "# Use token_count to get the top 10 words for Ethereum\n",
    "eth_10 = eth_sentiment[\"tokens\"].apply(token_count)\n",
    "eth_10"
   ]
  },
  {
   "cell_type": "markdown",
   "metadata": {},
   "source": [
    "---"
   ]
  },
  {
   "cell_type": "markdown",
   "metadata": {},
   "source": [
    "### Word Clouds\n",
    "\n",
    "In this section, you will generate word clouds for each coin to summarize the news for each coin"
   ]
  },
  {
   "cell_type": "code",
   "execution_count": 21,
   "metadata": {},
   "outputs": [],
   "source": [
    "from wordcloud import WordCloud\n",
    "import matplotlib.pyplot as plt\n",
    "plt.style.use('seaborn-whitegrid')\n",
    "import matplotlib as mpl\n",
    "mpl.rcParams['figure.figsize'] = [20.0, 10.0]"
   ]
  },
  {
   "cell_type": "code",
   "execution_count": 22,
   "metadata": {},
   "outputs": [],
   "source": [
    "# Generate the Bitcoin word cloud\n",
    "# YOUR CODE HERE!"
   ]
  },
  {
   "cell_type": "code",
   "execution_count": 23,
   "metadata": {},
   "outputs": [],
   "source": [
    "# Generate the Ethereum word cloud\n",
    "# YOUR CODE HERE!"
   ]
  },
  {
   "cell_type": "markdown",
   "metadata": {},
   "source": [
    "---\n",
    "## 3. Named Entity Recognition\n",
    "\n",
    "In this section, you will build a named entity recognition model for both Bitcoin and Ethereum, then visualize the tags using SpaCy."
   ]
  },
  {
   "cell_type": "code",
   "execution_count": 24,
   "metadata": {},
   "outputs": [],
   "source": [
    "import spacy\n",
    "from spacy import displacy"
   ]
  },
  {
   "cell_type": "code",
   "execution_count": 25,
   "metadata": {},
   "outputs": [],
   "source": [
    "# Download the language model for SpaCy\n",
    "# !python -m spacy download en_core_web_sm"
   ]
  },
  {
   "cell_type": "code",
   "execution_count": 26,
   "metadata": {},
   "outputs": [],
   "source": [
    "# Load the spaCy model\n",
    "nlp = spacy.load('en_core_web_sm')"
   ]
  },
  {
   "cell_type": "markdown",
   "metadata": {},
   "source": [
    "---\n",
    "### Bitcoin NER"
   ]
  },
  {
   "cell_type": "code",
   "execution_count": 27,
   "metadata": {},
   "outputs": [],
   "source": [
    "# Concatenate all of the Bitcoin text together\n",
    "# YOUR CODE HERE!"
   ]
  },
  {
   "cell_type": "code",
   "execution_count": 28,
   "metadata": {},
   "outputs": [],
   "source": [
    "# Run the NER processor on all of the text\n",
    "# YOUR CODE HERE!\n",
    "\n",
    "# Add a title to the document\n",
    "# YOUR CODE HERE!"
   ]
  },
  {
   "cell_type": "code",
   "execution_count": 29,
   "metadata": {},
   "outputs": [],
   "source": [
    "# Render the visualization\n",
    "# YOUR CODE HERE!"
   ]
  },
  {
   "cell_type": "code",
   "execution_count": 30,
   "metadata": {},
   "outputs": [],
   "source": [
    "# List all Entities\n",
    "# YOUR CODE HERE!"
   ]
  },
  {
   "cell_type": "markdown",
   "metadata": {},
   "source": [
    "---"
   ]
  },
  {
   "cell_type": "markdown",
   "metadata": {},
   "source": [
    "### Ethereum NER"
   ]
  },
  {
   "cell_type": "code",
   "execution_count": 31,
   "metadata": {},
   "outputs": [],
   "source": [
    "# Concatenate all of the Ethereum text together\n",
    "# YOUR CODE HERE!"
   ]
  },
  {
   "cell_type": "code",
   "execution_count": 32,
   "metadata": {},
   "outputs": [],
   "source": [
    "# Run the NER processor on all of the text\n",
    "# YOUR CODE HERE!\n",
    "\n",
    "# Add a title to the document\n",
    "# YOUR CODE HERE!"
   ]
  },
  {
   "cell_type": "code",
   "execution_count": 33,
   "metadata": {},
   "outputs": [],
   "source": [
    "# Render the visualization\n",
    "# YOUR CODE HERE!"
   ]
  },
  {
   "cell_type": "code",
   "execution_count": 34,
   "metadata": {},
   "outputs": [],
   "source": [
    "# List all Entities\n",
    "# YOUR CODE HERE!"
   ]
  },
  {
   "cell_type": "markdown",
   "metadata": {},
   "source": [
    "---"
   ]
  }
 ],
 "metadata": {
  "file_extension": ".py",
  "kernelspec": {
   "display_name": "Python 3",
   "language": "python",
   "name": "python3"
  },
  "language_info": {
   "codemirror_mode": {
    "name": "ipython",
    "version": 3
   },
   "file_extension": ".py",
   "mimetype": "text/x-python",
   "name": "python",
   "nbconvert_exporter": "python",
   "pygments_lexer": "ipython3",
   "version": "3.8.5"
  },
  "mimetype": "text/x-python",
  "name": "python",
  "npconvert_exporter": "python",
  "pygments_lexer": "ipython3",
  "version": 3
 },
 "nbformat": 4,
 "nbformat_minor": 4
}
